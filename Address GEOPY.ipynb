{
 "cells": [
  {
   "cell_type": "markdown",
   "id": "7aeab6cf",
   "metadata": {},
   "source": [
    "# Address GEOPY"
   ]
  },
  {
   "cell_type": "code",
   "execution_count": null,
   "id": "ac515b66",
   "metadata": {},
   "outputs": [],
   "source": [
    "!pip install geopy"
   ]
  },
  {
   "cell_type": "code",
   "execution_count": 2,
   "id": "b26d3626",
   "metadata": {},
   "outputs": [
    {
     "name": "stdout",
     "output_type": "stream",
     "text": [
      "Please enter the city name: tunis\n",
      "Address: تونس\n"
     ]
    }
   ],
   "source": [
    "from geopy.geocoders import Nominatim\n",
    "\n",
    "def get_address(city_name):\n",
    "    geolocator = Nominatim(user_agent=\"geoapiExercises\")\n",
    "    location = geolocator.geocode(city_name)\n",
    "    if location:\n",
    "        return location.address\n",
    "    else:\n",
    "        return None\n",
    "\n",
    "\n",
    "city_name = input(\"Please enter the city name: \")\n",
    "address = get_address(city_name)\n",
    "if address:\n",
    "    print(f\"Address: {address}\")\n",
    "else:\n",
    "    print(f\"Sorry, the address for {city_name} could not be found.\")"
   ]
  }
 ],
 "metadata": {
  "kernelspec": {
   "display_name": "Python 3 (ipykernel)",
   "language": "python",
   "name": "python3"
  },
  "language_info": {
   "codemirror_mode": {
    "name": "ipython",
    "version": 3
   },
   "file_extension": ".py",
   "mimetype": "text/x-python",
   "name": "python",
   "nbconvert_exporter": "python",
   "pygments_lexer": "ipython3",
   "version": "3.9.13"
  }
 },
 "nbformat": 4,
 "nbformat_minor": 5
}
