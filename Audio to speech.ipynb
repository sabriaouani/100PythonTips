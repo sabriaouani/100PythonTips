{
 "cells": [
  {
   "cell_type": "markdown",
   "id": "0b062045",
   "metadata": {},
   "source": [
    "# Audio to speach"
   ]
  },
  {
   "cell_type": "code",
   "execution_count": null,
   "id": "663e75d1",
   "metadata": {},
   "outputs": [],
   "source": [
    "!pip install SpeechRecognition"
   ]
  },
  {
   "cell_type": "code",
   "execution_count": 1,
   "id": "df378482",
   "metadata": {},
   "outputs": [
    {
     "name": "stdout",
     "output_type": "stream",
     "text": [
      "Transcribed text: I cannot give up both of you are happy to be losers part-time you want to escape you don't want to lose her anymore but then that new video game comes out I'll just play the video game loser for 2 more weeks then I'll get back to trying to escape the matrix it doesn't work that way cuz you jump in and out of complacency whatever time you are the only person who can make this work and you're also the only person who can follow this up\n"
     ]
    }
   ],
   "source": [
    "import speech_recognition as sr\n",
    "\n",
    "\n",
    "recognizer = sr.Recognizer()\n",
    "\n",
    "\n",
    "audio_file_path = 'Files\\I-BELIEVE-IN-ANDREW-TATE-WHEN-HE-SAID....wav'\n",
    "audio_file = sr.AudioFile(audio_file_path)\n",
    "\n",
    "#recognize  speech from audio\n",
    "with audio_file as source:\n",
    "    audio_data = recognizer.record(source)\n",
    "    text = recognizer.recognize_google(audio_data)\n",
    "\n",
    "#transcribed text\n",
    "print(f\"Transcribed text: {text}\")"
   ]
  }
 ],
 "metadata": {
  "kernelspec": {
   "display_name": "Python 3 (ipykernel)",
   "language": "python",
   "name": "python3"
  },
  "language_info": {
   "codemirror_mode": {
    "name": "ipython",
    "version": 3
   },
   "file_extension": ".py",
   "mimetype": "text/x-python",
   "name": "python",
   "nbconvert_exporter": "python",
   "pygments_lexer": "ipython3",
   "version": "3.9.13"
  }
 },
 "nbformat": 4,
 "nbformat_minor": 5
}
