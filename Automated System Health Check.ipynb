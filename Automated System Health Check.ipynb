{
 "cells": [
  {
   "cell_type": "markdown",
   "id": "df9399f2",
   "metadata": {},
   "source": [
    "# Automated System Health Check"
   ]
  },
  {
   "cell_type": "code",
   "execution_count": null,
   "id": "16dbe1e5",
   "metadata": {},
   "outputs": [],
   "source": [
    "!pip install psutil"
   ]
  },
  {
   "cell_type": "code",
   "execution_count": null,
   "id": "5a69b536",
   "metadata": {},
   "outputs": [],
   "source": [
    "import psutil\n",
    "\n",
    "def check_cpu_usage(threshold=90):\n",
    "    cpu_usage = psutil.cpu_percent()\n",
    "    if cpu_usage > threshold:\n",
    "        print(f\"CPU usage is above {threshold}%! Currently at {cpu_usage}%.\")\n",
    "    else:\n",
    "        print(f\"CPU usage is normal: {cpu_usage}%.\")\n",
    "\n",
    "def check_memory_usage(threshold=90):\n",
    "    memory = psutil.virtual_memory()\n",
    "    memory_usage = memory.percent\n",
    "    if memory_usage > threshold:\n",
    "        print(f\"Memory usage is above {threshold}%! Currently at {memory_usage}%.\")\n",
    "    else:\n",
    "        print(f\"Memory usage is normal: {memory_usage}%.\")\n",
    "\n",
    "def check_disk_space(threshold=90):\n",
    "    disk = psutil.disk_usage('/')\n",
    "    disk_usage = disk.percent\n",
    "    if disk_usage > threshold:\n",
    "        print(f\"Disk space is above {threshold}%! Currently at {disk_usage}%.\")\n",
    "    else:\n",
    "        print(f\"Disk space is normal: {disk_usage}%.\")\n",
    "\n",
    "if __name__ == \"__main__\":\n",
    "    print(\"Checking system health...\")\n",
    "    check_cpu_usage()\n",
    "    check_memory_usage()\n",
    "    check_disk_space()\n",
    "    print(\"Health check complete.\")\n"
   ]
  }
 ],
 "metadata": {
  "kernelspec": {
   "display_name": "Python 3 (ipykernel)",
   "language": "python",
   "name": "python3"
  },
  "language_info": {
   "codemirror_mode": {
    "name": "ipython",
    "version": 3
   },
   "file_extension": ".py",
   "mimetype": "text/x-python",
   "name": "python",
   "nbconvert_exporter": "python",
   "pygments_lexer": "ipython3",
   "version": "3.9.13"
  }
 },
 "nbformat": 4,
 "nbformat_minor": 5
}
