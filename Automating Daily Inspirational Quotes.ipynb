{
 "cells": [
  {
   "cell_type": "markdown",
   "id": "47474162",
   "metadata": {},
   "source": [
    "# Automating Daily Inspirational Quotes"
   ]
  },
  {
   "cell_type": "code",
   "execution_count": 17,
   "id": "0e0fb0a6",
   "metadata": {},
   "outputs": [
    {
     "name": "stdout",
     "output_type": "stream",
     "text": [
      "Here's your daily inspirational quote:\n",
      "\"Today is the tomorrow we worried about yesterday.\" - type.fit\n"
     ]
    }
   ],
   "source": [
    "import requests\n",
    "import random\n",
    "\n",
    "def get_random_quote():\n",
    "    response = requests.get(\"https://type.fit/api/quotes\")\n",
    "    quotes = response.json()\n",
    "    random_quote = random.choice(quotes)\n",
    "    return random_quote[\"text\"], random_quote[\"author\"]\n",
    "\n",
    "def main():\n",
    "    quote, author = get_random_quote()\n",
    "    print(\"Here's your daily inspirational quote:\")\n",
    "    print(f'\"{quote}\" - {author}')\n",
    "\n",
    "if __name__ == \"__main__\":\n",
    "    main()\n"
   ]
  }
 ],
 "metadata": {
  "kernelspec": {
   "display_name": "Python 3 (ipykernel)",
   "language": "python",
   "name": "python3"
  },
  "language_info": {
   "codemirror_mode": {
    "name": "ipython",
    "version": 3
   },
   "file_extension": ".py",
   "mimetype": "text/x-python",
   "name": "python",
   "nbconvert_exporter": "python",
   "pygments_lexer": "ipython3",
   "version": "3.9.13"
  }
 },
 "nbformat": 4,
 "nbformat_minor": 5
}
