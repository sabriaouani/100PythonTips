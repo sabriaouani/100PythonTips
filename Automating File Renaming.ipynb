{
 "cells": [
  {
   "cell_type": "markdown",
   "id": "682f97be",
   "metadata": {},
   "source": [
    "# Automating File Renaming"
   ]
  },
  {
   "cell_type": "code",
   "execution_count": 1,
   "id": "bbaf63f3",
   "metadata": {},
   "outputs": [
    {
     "name": "stdout",
     "output_type": "stream",
     "text": [
      "Enter the directory path: Files\\\n",
      "Enter the prefix of files to be renamed: andrew1.jfif\n",
      "Enter new name for andrew1.jfif: andrew-tate.jfif\n",
      "Renamed andrew1.jfif to andrew-tate.jfif\n"
     ]
    }
   ],
   "source": [
    "import os\n",
    "\n",
    "def rename_files(directory_path, prefix):\n",
    "    for filename in os.listdir(directory_path):\n",
    "        if filename.startswith(prefix):\n",
    "            new_name = input(f\"Enter new name for {filename}: \")\n",
    "            new_path = os.path.join(directory_path, new_name)\n",
    "            os.rename(os.path.join(directory_path, filename), new_path)\n",
    "            print(f\"Renamed {filename} to {new_name}\")\n",
    "\n",
    "if __name__ == \"__main__\":\n",
    "    directory_path = input(\"Enter the directory path: \")\n",
    "    prefix = input(\"Enter the prefix of files to be renamed: \")\n",
    "    rename_files(directory_path, prefix)\n"
   ]
  }
 ],
 "metadata": {
  "kernelspec": {
   "display_name": "Python 3 (ipykernel)",
   "language": "python",
   "name": "python3"
  },
  "language_info": {
   "codemirror_mode": {
    "name": "ipython",
    "version": 3
   },
   "file_extension": ".py",
   "mimetype": "text/x-python",
   "name": "python",
   "nbconvert_exporter": "python",
   "pygments_lexer": "ipython3",
   "version": "3.9.13"
  }
 },
 "nbformat": 4,
 "nbformat_minor": 5
}
