{
 "cells": [
  {
   "cell_type": "markdown",
   "id": "19ae1d06",
   "metadata": {},
   "source": [
    "# Automating Personal Diary Updates"
   ]
  },
  {
   "cell_type": "code",
   "execution_count": 1,
   "id": "92d44c61",
   "metadata": {},
   "outputs": [
    {
     "name": "stdout",
     "output_type": "stream",
     "text": [
      "1. Create a new diary entry\n",
      "2. Read the latest diary entry\n",
      "Select an option: 1\n",
      "Enter your thoughts for today:\n",
      "i will do whatever it takes to leave tunisia, even if it takes to post a video everyday on linkedin\n",
      "Diary entry created successfully.\n"
     ]
    }
   ],
   "source": [
    "import os\n",
    "import datetime\n",
    "\n",
    "diary_folder = \"Files\\diary\"\n",
    "current_date = datetime.datetime.now().strftime(\"%Y-%m-%d\")\n",
    "diary_file = os.path.join(diary_folder, f\"{current_date}.txt\")\n",
    "\n",
    "def create_diary_entry():\n",
    "    if not os.path.exists(diary_folder):\n",
    "        os.makedirs(diary_folder)\n",
    "    \n",
    "    if os.path.exists(diary_file):\n",
    "        print(\"Diary entry for today already exists.\")\n",
    "        return\n",
    "    \n",
    "    print(\"Enter your thoughts for today:\")\n",
    "    entry = input()\n",
    "    \n",
    "    with open(diary_file, \"w\") as f:\n",
    "        f.write(entry)\n",
    "    \n",
    "    print(\"Diary entry created successfully.\")\n",
    "\n",
    "def read_latest_entry():\n",
    "    if os.path.exists(diary_file):\n",
    "        with open(diary_file, \"r\") as f:\n",
    "            entry = f.read()\n",
    "            print(\"Latest diary entry:\")\n",
    "            print(entry)\n",
    "    else:\n",
    "        print(\"No diary entry for today.\")\n",
    "\n",
    "if __name__ == \"__main__\":\n",
    "    print(\"1. Create a new diary entry\")\n",
    "    print(\"2. Read the latest diary entry\")\n",
    "    choice = input(\"Select an option: \")\n",
    "    \n",
    "    if choice == \"1\":\n",
    "        create_diary_entry()\n",
    "    elif choice == \"2\":\n",
    "        read_latest_entry()\n",
    "    else:\n",
    "        print(\"Invalid choice.\")\n"
   ]
  }
 ],
 "metadata": {
  "kernelspec": {
   "display_name": "Python 3 (ipykernel)",
   "language": "python",
   "name": "python3"
  },
  "language_info": {
   "codemirror_mode": {
    "name": "ipython",
    "version": 3
   },
   "file_extension": ".py",
   "mimetype": "text/x-python",
   "name": "python",
   "nbconvert_exporter": "python",
   "pygments_lexer": "ipython3",
   "version": "3.9.13"
  }
 },
 "nbformat": 4,
 "nbformat_minor": 5
}
