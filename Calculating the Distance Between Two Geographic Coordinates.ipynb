{
 "cells": [
  {
   "cell_type": "markdown",
   "id": "9f0524ca",
   "metadata": {},
   "source": [
    "# Calculating the Distance Between Two Geographic Coordinates"
   ]
  },
  {
   "cell_type": "code",
   "execution_count": 1,
   "id": "483079bd",
   "metadata": {},
   "outputs": [],
   "source": [
    "from math import radians, sin, cos, sqrt, atan2\n",
    "\n",
    "def haversine_distance(coord1, coord2):\n",
    "    R = 6371.0\n",
    "\n",
    "    lat1, lon1 = radians(coord1[0]), radians(coord1[1])\n",
    "    lat2, lon2 = radians(coord2[0]), radians(coord2[1])\n",
    "\n",
    "    dlat = lat2 - lat1\n",
    "    dlon = lon2 - lon1\n",
    "\n",
    "#haversine formula\n",
    "    a = sin(dlat / 2)**2 + cos(lat1) * cos(lat2) * sin(dlon / 2)**2\n",
    "    c = 2 * atan2(sqrt(a), sqrt(1 - a))\n",
    "    distance = R * c\n",
    "\n",
    "    return distance"
   ]
  },
  {
   "cell_type": "code",
   "execution_count": 2,
   "id": "8299f37b",
   "metadata": {},
   "outputs": [
    {
     "name": "stdout",
     "output_type": "stream",
     "text": [
      "The distance between Berlin and Paris is 877.4633259175432 kilometers.\n"
     ]
    }
   ],
   "source": [
    "coord1 = (52.5200, 13.4050) # Berlin\n",
    "coord2 = (48.8566, 2.3522)  # Paris\n",
    "\n",
    "distance = haversine_distance(coord1, coord2)\n",
    "print(f\"The distance between Berlin and Paris is {distance} kilometers.\")"
   ]
  }
 ],
 "metadata": {
  "kernelspec": {
   "display_name": "Python 3 (ipykernel)",
   "language": "python",
   "name": "python3"
  },
  "language_info": {
   "codemirror_mode": {
    "name": "ipython",
    "version": 3
   },
   "file_extension": ".py",
   "mimetype": "text/x-python",
   "name": "python",
   "nbconvert_exporter": "python",
   "pygments_lexer": "ipython3",
   "version": "3.9.13"
  }
 },
 "nbformat": 4,
 "nbformat_minor": 5
}
