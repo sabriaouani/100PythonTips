{
 "cells": [
  {
   "cell_type": "markdown",
   "id": "d99c2fc8",
   "metadata": {},
   "source": [
    "# Checking the availability of a domain name"
   ]
  },
  {
   "cell_type": "code",
   "execution_count": 1,
   "id": "d9cf5d5c",
   "metadata": {},
   "outputs": [
    {
     "name": "stdout",
     "output_type": "stream",
     "text": [
      "Defaulting to user installation because normal site-packages is not writeable\n",
      "Collecting python-whois\n",
      "  Downloading python-whois-0.8.0.tar.gz (109 kB)\n",
      "     ------------------------------------ 109.6/109.6 kB 637.2 kB/s eta 0:00:00\n",
      "  Preparing metadata (setup.py): started\n",
      "  Preparing metadata (setup.py): finished with status 'done'\n",
      "Requirement already satisfied: future in c:\\programdata\\anaconda3\\lib\\site-packages (from python-whois) (0.18.2)\n",
      "Building wheels for collected packages: python-whois\n",
      "  Building wheel for python-whois (setup.py): started\n",
      "  Building wheel for python-whois (setup.py): finished with status 'done'\n",
      "  Created wheel for python-whois: filename=python_whois-0.8.0-py3-none-any.whl size=103247 sha256=d35296032b84242b7427e593a06363693781bf8288a32067ea103ead35840a7e\n",
      "  Stored in directory: c:\\users\\my pc\\appdata\\local\\pip\\cache\\wheels\\e6\\e9\\d3\\1e41a6c95b398de12c5a332ff28805aa44e68aa317ea60266d\n",
      "Successfully built python-whois\n",
      "Installing collected packages: python-whois\n",
      "Successfully installed python-whois-0.8.0\n",
      "Note: you may need to restart the kernel to use updated packages.\n"
     ]
    }
   ],
   "source": [
    "pip install python-whois"
   ]
  },
  {
   "cell_type": "code",
   "execution_count": 3,
   "id": "0ec962da",
   "metadata": {},
   "outputs": [
    {
     "name": "stdout",
     "output_type": "stream",
     "text": [
      "Please enter the domain name: sabriaouani.com\n",
      "The domain sabriaouani.com is not available.\n"
     ]
    }
   ],
   "source": [
    "import whois\n",
    "\n",
    "def is_domain_available(domain_name):\n",
    "    try:\n",
    "        w = whois.whois(domain_name)\n",
    "        if w.status == None:\n",
    "            return True\n",
    "        else:\n",
    "            return False\n",
    "    except Exception as e:\n",
    "        print(f\"An error occurred: {e}\")\n",
    "        return False\n",
    "\n",
    "domain_name = input(\"Please enter the domain name: \")\n",
    "if is_domain_available(domain_name):\n",
    "    print(f\"The domain {domain_name} is available.\")\n",
    "else:\n",
    "    print(f\"The domain {domain_name} is not available.\")"
   ]
  }
 ],
 "metadata": {
  "kernelspec": {
   "display_name": "Python 3 (ipykernel)",
   "language": "python",
   "name": "python3"
  },
  "language_info": {
   "codemirror_mode": {
    "name": "ipython",
    "version": 3
   },
   "file_extension": ".py",
   "mimetype": "text/x-python",
   "name": "python",
   "nbconvert_exporter": "python",
   "pygments_lexer": "ipython3",
   "version": "3.9.13"
  }
 },
 "nbformat": 4,
 "nbformat_minor": 5
}
