{
 "cells": [
  {
   "cell_type": "markdown",
   "id": "d99c2fc8",
   "metadata": {},
   "source": [
    "# Checking the availability of a domain name"
   ]
  },
  {
   "cell_type": "code",
   "execution_count": null,
   "id": "d9cf5d5c",
   "metadata": {},
   "outputs": [],
   "source": [
    "pip install python-whois"
   ]
  },
  {
   "cell_type": "code",
   "execution_count": null,
   "id": "0ec962da",
   "metadata": {},
   "outputs": [],
   "source": [
    "import whois\n",
    "\n",
    "def is_domain_available(domain_name):\n",
    "    try:\n",
    "        w = whois.whois(domain_name)\n",
    "        return False\n",
    "    except whois.parser.PywhoisError:\n",
    "        return True\n",
    "    except Exception as e:\n",
    "        print(f\"An error occurred: {e}\")\n",
    "        return False\n",
    "\n",
    "domain_name = input(\"Please enter the domain name: \")\n",
    "if is_domain_available(domain_name):\n",
    "    print(f\"The domain {domain_name} is available.\")\n",
    "else:\n",
    "    print(f\"The domain {domain_name} is not available.\")\n"
   ]
  }
 ],
 "metadata": {
  "kernelspec": {
   "display_name": "Python 3 (ipykernel)",
   "language": "python",
   "name": "python3"
  },
  "language_info": {
   "codemirror_mode": {
    "name": "ipython",
    "version": 3
   },
   "file_extension": ".py",
   "mimetype": "text/x-python",
   "name": "python",
   "nbconvert_exporter": "python",
   "pygments_lexer": "ipython3",
   "version": "3.9.13"
  }
 },
 "nbformat": 4,
 "nbformat_minor": 5
}
