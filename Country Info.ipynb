{
 "cells": [
  {
   "cell_type": "markdown",
   "id": "e00c151b",
   "metadata": {},
   "source": [
    "# Country Info"
   ]
  },
  {
   "cell_type": "code",
   "execution_count": null,
   "id": "a1f24146",
   "metadata": {},
   "outputs": [],
   "source": [
    "!pip install countryinfo"
   ]
  },
  {
   "cell_type": "code",
   "execution_count": 2,
   "id": "1de8fa94",
   "metadata": {},
   "outputs": [
    {
     "name": "stdout",
     "output_type": "stream",
     "text": [
      "Country: Egypt\n",
      "Capital: Cairo\n",
      "Area: 1002450 square km\n",
      "Population: 87668100\n",
      "Languages: ['ar']\n",
      "Provinces: ['Ad Daqahliyah', 'Al Bahr al Ahmar', 'Al Buhayrah', 'Al Fayyum', 'Al Gharbiyah', 'Al Iskandariyah', \"Al Isma'iliyah\", 'Al Jizah', 'Al Minufiyah', 'Al Minya', 'Al Qahirah', 'Al Qalyubiyah', 'Al Wadi al Jadid', 'As Suways', 'Ash Sharqiyah', 'Aswan', 'Asyut', 'Bani Suwayf', \"Bur Sa'id\", 'Dumyat', \"Janub Sina'\", 'Kafr ash Shaykh', 'Matruh', 'Qina', \"Shamal Sina'\", 'Suhaj']\n",
      "Currencies: ['EGP']\n",
      "Timezones: ['UTC+02:00']\n"
     ]
    }
   ],
   "source": [
    "from countryinfo import CountryInfo\n",
    "\n",
    "def print_country_info(country_name):\n",
    "\n",
    "    country = CountryInfo(country_name)\n",
    "\n",
    "    print(f\"Country: {country_name}\")\n",
    "    print(f\"Capital: {country.capital()}\")\n",
    "    print(f\"Area: {country.area()} square km\")\n",
    "    print(f\"Population: {country.population()}\")\n",
    "    print(f\"Languages: {country.languages()}\")\n",
    "    print(f\"Provinces: {country.provinces()}\")\n",
    "    print(f\"Currencies: {country.currencies()}\")\n",
    "    print(f\"Timezones: {country.timezones()}\")\n",
    "\n",
    "print_country_info('Egypt')"
   ]
  }
 ],
 "metadata": {
  "kernelspec": {
   "display_name": "Python 3 (ipykernel)",
   "language": "python",
   "name": "python3"
  },
  "language_info": {
   "codemirror_mode": {
    "name": "ipython",
    "version": 3
   },
   "file_extension": ".py",
   "mimetype": "text/x-python",
   "name": "python",
   "nbconvert_exporter": "python",
   "pygments_lexer": "ipython3",
   "version": "3.9.13"
  }
 },
 "nbformat": 4,
 "nbformat_minor": 5
}
