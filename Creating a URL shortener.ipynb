{
 "cells": [
  {
   "cell_type": "markdown",
   "id": "e0b50428",
   "metadata": {},
   "source": [
    "# Creating a URL shortener"
   ]
  },
  {
   "cell_type": "code",
   "execution_count": null,
   "id": "296d688a",
   "metadata": {},
   "outputs": [],
   "source": [
    "!pip install pyshorteners"
   ]
  },
  {
   "cell_type": "code",
   "execution_count": 1,
   "id": "ae525349",
   "metadata": {},
   "outputs": [
    {
     "name": "stdout",
     "output_type": "stream",
     "text": [
      "Shortened URL: https://tinyurl.com/24mu2spr\n",
      "Original URL: https://public.tableau.com/app/profile/sabri.aouani/viz/DrangonballTansformationsDiscord/Dragonballdiscord\n"
     ]
    }
   ],
   "source": [
    "import pyshorteners\n",
    "\n",
    "\n",
    "s = pyshorteners.Shortener()\n",
    "\n",
    "url = 'https://public.tableau.com/app/profile/sabri.aouani/viz/DrangonballTansformationsDiscord/Dragonballdiscord'\n",
    "\n",
    "short_url = s.tinyurl.short(url)\n",
    "\n",
    "print(f\"Shortened URL: {short_url}\")\n",
    "\n",
    "original_url = s.tinyurl.expand(short_url)\n",
    "print(f\"Original URL: {original_url}\")"
   ]
  }
 ],
 "metadata": {
  "kernelspec": {
   "display_name": "Python 3 (ipykernel)",
   "language": "python",
   "name": "python3"
  },
  "language_info": {
   "codemirror_mode": {
    "name": "ipython",
    "version": 3
   },
   "file_extension": ".py",
   "mimetype": "text/x-python",
   "name": "python",
   "nbconvert_exporter": "python",
   "pygments_lexer": "ipython3",
   "version": "3.9.13"
  }
 },
 "nbformat": 4,
 "nbformat_minor": 5
}
