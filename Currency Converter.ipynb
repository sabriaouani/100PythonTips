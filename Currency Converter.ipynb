{
 "cells": [
  {
   "cell_type": "markdown",
   "id": "4b3503e7",
   "metadata": {},
   "source": [
    "# Currency Converter"
   ]
  },
  {
   "cell_type": "code",
   "execution_count": null,
   "id": "3c4e604c",
   "metadata": {},
   "outputs": [],
   "source": [
    "pip install forex-python"
   ]
  },
  {
   "cell_type": "code",
   "execution_count": 4,
   "id": "3194e16d",
   "metadata": {},
   "outputs": [
    {
     "name": "stdout",
     "output_type": "stream",
     "text": [
      "150 USD is equal to 3274.9772105742936 CZK.\n"
     ]
    }
   ],
   "source": [
    "from forex_python.converter import CurrencyRates\n",
    "\n",
    "def convert_currency(amount, from_currency, to_currency):\n",
    "    cr = CurrencyRates()\n",
    "\n",
    " \n",
    "    valid_currencies = [\n",
    "        \"USD\", \"JPY\", \"BGN\", \"CZK\", \"DKK\", \"GBP\", \"HUF\", \"PLN\", \"RON\", \"SEK\", \n",
    "        \"CHF\", \"ISK\", \"NOK\", \"TRY\", \"AUD\", \"BRL\", \"CAD\", \"CNY\", \"HKD\", \"IDR\", \n",
    "        \"INR\", \"KRW\", \"MXN\", \"MYR\", \"NZD\", \"PHP\", \"SGD\", \"THB\", \"ZAR\"\n",
    "    ]\n",
    "\n",
    "   \n",
    "    if from_currency not in valid_currencies or to_currency not in valid_currencies:\n",
    "        print(\"The provided currency should be in the following list: \", valid_currencies)\n",
    "        return None\n",
    "\n",
    "    result = cr.convert(from_currency, to_currency, amount)\n",
    "    return result\n",
    "\n",
    "\n",
    "amount = 150\n",
    "from_currency = 'USD'\n",
    "to_currency = 'CZK'\n",
    "converted_amount = convert_currency(amount, from_currency, to_currency)\n",
    "\n",
    "if converted_amount is not None:\n",
    "    print(f'{amount} {from_currency} is equal to {converted_amount} {to_currency}.')"
   ]
  }
 ],
 "metadata": {
  "kernelspec": {
   "display_name": "Python 3 (ipykernel)",
   "language": "python",
   "name": "python3"
  },
  "language_info": {
   "codemirror_mode": {
    "name": "ipython",
    "version": 3
   },
   "file_extension": ".py",
   "mimetype": "text/x-python",
   "name": "python",
   "nbconvert_exporter": "python",
   "pygments_lexer": "ipython3",
   "version": "3.9.13"
  }
 },
 "nbformat": 4,
 "nbformat_minor": 5
}
