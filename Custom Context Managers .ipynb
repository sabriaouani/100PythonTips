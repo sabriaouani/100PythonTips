{
 "cells": [
  {
   "cell_type": "markdown",
   "id": "eefcc8a4",
   "metadata": {},
   "source": [
    "# Custom Context Managers to measure the execution time"
   ]
  },
  {
   "cell_type": "code",
   "execution_count": 3,
   "id": "bf76c85e",
   "metadata": {},
   "outputs": [
    {
     "name": "stdout",
     "output_type": "stream",
     "text": [
      "Processing Time: 5.113588094711304 seconds\n"
     ]
    }
   ],
   "source": [
    "from contextlib import contextmanager\n",
    "import time\n",
    "\n",
    "@contextmanager\n",
    "def timer(label):\n",
    "    start_time = time.time()\n",
    "    try:\n",
    "        yield\n",
    "    finally:\n",
    "        end_time = time.time()\n",
    "        print(f\"{label}: {end_time - start_time} seconds\")\n",
    "\n",
    "with timer(\"Processing Time\"):\n",
    "    sum(range(100000000))"
   ]
  }
 ],
 "metadata": {
  "kernelspec": {
   "display_name": "Python 3 (ipykernel)",
   "language": "python",
   "name": "python3"
  },
  "language_info": {
   "codemirror_mode": {
    "name": "ipython",
    "version": 3
   },
   "file_extension": ".py",
   "mimetype": "text/x-python",
   "name": "python",
   "nbconvert_exporter": "python",
   "pygments_lexer": "ipython3",
   "version": "3.9.13"
  }
 },
 "nbformat": 4,
 "nbformat_minor": 5
}
