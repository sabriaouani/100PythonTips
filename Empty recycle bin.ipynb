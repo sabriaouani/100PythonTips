{
 "cells": [
  {
   "cell_type": "markdown",
   "id": "0875588a",
   "metadata": {},
   "source": [
    "# Empty recycle bin"
   ]
  },
  {
   "cell_type": "code",
   "execution_count": null,
   "id": "0112eee9",
   "metadata": {},
   "outputs": [],
   "source": [
    "!pip install winshell"
   ]
  },
  {
   "cell_type": "code",
   "execution_count": 1,
   "id": "bb950c74",
   "metadata": {},
   "outputs": [],
   "source": [
    "import winshell\n",
    "\n",
    "winshell.recycle_bin().empty(confirm=False, show_progress=False, sound=False)"
   ]
  }
 ],
 "metadata": {
  "kernelspec": {
   "display_name": "Python 3 (ipykernel)",
   "language": "python",
   "name": "python3"
  },
  "language_info": {
   "codemirror_mode": {
    "name": "ipython",
    "version": 3
   },
   "file_extension": ".py",
   "mimetype": "text/x-python",
   "name": "python",
   "nbconvert_exporter": "python",
   "pygments_lexer": "ipython3",
   "version": "3.9.13"
  }
 },
 "nbformat": 4,
 "nbformat_minor": 5
}
