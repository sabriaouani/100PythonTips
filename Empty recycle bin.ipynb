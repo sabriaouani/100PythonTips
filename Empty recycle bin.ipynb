{
 "cells": [
  {
   "cell_type": "code",
   "execution_count": 1,
   "id": "0112eee9",
   "metadata": {},
   "outputs": [
    {
     "name": "stdout",
     "output_type": "stream",
     "text": [
      "Defaulting to user installation because normal site-packages is not writeable\n",
      "Collecting winshell\n",
      "  Downloading winshell-0.6.zip (10 kB)\n",
      "  Preparing metadata (setup.py): started\n",
      "  Preparing metadata (setup.py): finished with status 'done'\n",
      "Building wheels for collected packages: winshell\n",
      "  Building wheel for winshell (setup.py): started\n",
      "  Building wheel for winshell (setup.py): finished with status 'done'\n",
      "  Created wheel for winshell: filename=winshell-0.6-py3-none-any.whl size=9401 sha256=0bdab6c472440e13939054d727d026a20fc2bcccfd2afb26e5e58d56414eefb4\n",
      "  Stored in directory: c:\\users\\my pc\\appdata\\local\\pip\\cache\\wheels\\49\\da\\2c\\adad3482807e9093a8ff1d57cedea95c1d8d8c008d8f532c56\n",
      "Successfully built winshell\n",
      "Installing collected packages: winshell\n",
      "Successfully installed winshell-0.6\n"
     ]
    }
   ],
   "source": [
    "!pip install winshell"
   ]
  },
  {
   "cell_type": "code",
   "execution_count": 2,
   "id": "bb950c74",
   "metadata": {},
   "outputs": [],
   "source": [
    "import winshell\n",
    "\n",
    "winshell.recycle_bin().empty(confirm=False, show_progress=False, sound=False)"
   ]
  }
 ],
 "metadata": {
  "kernelspec": {
   "display_name": "Python 3 (ipykernel)",
   "language": "python",
   "name": "python3"
  },
  "language_info": {
   "codemirror_mode": {
    "name": "ipython",
    "version": 3
   },
   "file_extension": ".py",
   "mimetype": "text/x-python",
   "name": "python",
   "nbconvert_exporter": "python",
   "pygments_lexer": "ipython3",
   "version": "3.9.13"
  }
 },
 "nbformat": 4,
 "nbformat_minor": 5
}
