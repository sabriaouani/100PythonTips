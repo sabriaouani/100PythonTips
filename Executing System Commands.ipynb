{
 "cells": [
  {
   "cell_type": "markdown",
   "id": "68104cec",
   "metadata": {},
   "source": [
    "# Executing System Commands"
   ]
  },
  {
   "cell_type": "code",
   "execution_count": 1,
   "id": "56a240f9",
   "metadata": {},
   "outputs": [
    {
     "name": "stdout",
     "output_type": "stream",
     "text": [
      "Success: Python 3.9.13\n",
      "\n"
     ]
    }
   ],
   "source": [
    "import subprocess\n",
    "\n",
    "def run_command(command):\n",
    "    result = subprocess.run(command, stdout=subprocess.PIPE, stderr=subprocess.PIPE, text=True, shell=True)\n",
    "    \n",
    "    if result.returncode == 0:\n",
    "        print(f\"Success: {result.stdout}\")\n",
    "    else:\n",
    "        print(f\"Error: {result.stderr}\")\n",
    "\n",
    "# Example usage\n",
    "command = \"python --version\"\n",
    "run_command(command)"
   ]
  }
 ],
 "metadata": {
  "kernelspec": {
   "display_name": "Python 3 (ipykernel)",
   "language": "python",
   "name": "python3"
  },
  "language_info": {
   "codemirror_mode": {
    "name": "ipython",
    "version": 3
   },
   "file_extension": ".py",
   "mimetype": "text/x-python",
   "name": "python",
   "nbconvert_exporter": "python",
   "pygments_lexer": "ipython3",
   "version": "3.9.13"
  }
 },
 "nbformat": 4,
 "nbformat_minor": 5
}
