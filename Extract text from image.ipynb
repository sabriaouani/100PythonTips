{
 "cells": [
  {
   "cell_type": "markdown",
   "id": "aca9a252",
   "metadata": {},
   "source": [
    "# Extract text from image"
   ]
  },
  {
   "cell_type": "code",
   "execution_count": null,
   "id": "591742d3",
   "metadata": {},
   "outputs": [],
   "source": [
    "!pip install pytesseract Pillow"
   ]
  },
  {
   "cell_type": "code",
   "execution_count": null,
   "id": "01ea4755",
   "metadata": {},
   "outputs": [],
   "source": [
    "pytesseract.pytesseract.tesseract_cmd = r'C:\\Program Files\\Tesseract-OCR'"
   ]
  },
  {
   "cell_type": "code",
   "execution_count": 1,
   "id": "a4535a52",
   "metadata": {},
   "outputs": [
    {
     "name": "stdout",
     "output_type": "stream",
     "text": [
      "Extracted text from the image: www.trdshayari.com\n",
      "\n",
      "The temporary satisfaction of quitting is eo\n",
      "by the eternal suffering of being a nopodys”\n",
      "\n",
      "“Andrew Tate if\n",
      "\n"
     ]
    }
   ],
   "source": [
    "from PIL import Image\n",
    "import pytesseract\n",
    "\n",
    "def ocr_image(image_path):\n",
    " \n",
    "    image = Image.open(image_path)\n",
    "\n",
    "    text = pytesseract.image_to_string(image)\n",
    "\n",
    "    return text\n",
    "\n",
    "image_path = r'Files\\Andrew tate life Quotes.jpg'\n",
    "extracted_text = ocr_image(image_path)\n",
    "print(f\"Extracted text from the image: {extracted_text}\")"
   ]
  }
 ],
 "metadata": {
  "kernelspec": {
   "display_name": "Python 3 (ipykernel)",
   "language": "python",
   "name": "python3"
  },
  "language_info": {
   "codemirror_mode": {
    "name": "ipython",
    "version": 3
   },
   "file_extension": ".py",
   "mimetype": "text/x-python",
   "name": "python",
   "nbconvert_exporter": "python",
   "pygments_lexer": "ipython3",
   "version": "3.9.13"
  }
 },
 "nbformat": 4,
 "nbformat_minor": 5
}
