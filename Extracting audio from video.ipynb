{
 "cells": [
  {
   "cell_type": "markdown",
   "id": "ac5fb984",
   "metadata": {},
   "source": [
    "# Extracting audio from video"
   ]
  },
  {
   "cell_type": "code",
   "execution_count": null,
   "id": "27753436",
   "metadata": {},
   "outputs": [],
   "source": [
    "!pip install moviepy"
   ]
  },
  {
   "cell_type": "code",
   "execution_count": 1,
   "id": "9cbc5c3e",
   "metadata": {},
   "outputs": [
    {
     "name": "stdout",
     "output_type": "stream",
     "text": [
      "MoviePy - Writing audio in Files\\I BELIEVE IN ANDREW TATE WHEN HE SAID.mp3\n"
     ]
    },
    {
     "name": "stderr",
     "output_type": "stream",
     "text": [
      "                                                                                                                       \r"
     ]
    },
    {
     "name": "stdout",
     "output_type": "stream",
     "text": [
      "MoviePy - Done.\n",
      "Audio extracted and saved to Files\\I BELIEVE IN ANDREW TATE WHEN HE SAID.mp3\n"
     ]
    }
   ],
   "source": [
    "from moviepy.editor import VideoFileClip\n",
    "\n",
    "\n",
    "video_path = 'Files\\I BELIEVE IN ANDREW TATE WHEN HE SAID.mp4'\n",
    "video = VideoFileClip(video_path)\n",
    "\n",
    "audio = video.audio\n",
    "audio_path = 'Files\\I BELIEVE IN ANDREW TATE WHEN HE SAID.mp3'\n",
    "audio.write_audiofile(audio_path)\n",
    "\n",
    "video.close()\n",
    "audio.close()\n",
    "\n",
    "print(f\"Audio extracted and saved to {audio_path}\")"
   ]
  }
 ],
 "metadata": {
  "kernelspec": {
   "display_name": "Python 3 (ipykernel)",
   "language": "python",
   "name": "python3"
  },
  "language_info": {
   "codemirror_mode": {
    "name": "ipython",
    "version": 3
   },
   "file_extension": ".py",
   "mimetype": "text/x-python",
   "name": "python",
   "nbconvert_exporter": "python",
   "pygments_lexer": "ipython3",
   "version": "3.9.13"
  }
 },
 "nbformat": 4,
 "nbformat_minor": 5
}
