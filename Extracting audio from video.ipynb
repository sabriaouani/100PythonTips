{
 "cells": [
  {
   "cell_type": "markdown",
   "id": "ac5fb984",
   "metadata": {},
   "source": [
    "# Extracting audio from video"
   ]
  },
  {
   "cell_type": "code",
   "execution_count": 1,
   "id": "27753436",
   "metadata": {},
   "outputs": [
    {
     "name": "stdout",
     "output_type": "stream",
     "text": [
      "Defaulting to user installation because normal site-packages is not writeable\n",
      "Requirement already satisfied: moviepy in c:\\users\\my pc\\appdata\\roaming\\python\\python39\\site-packages (1.0.3)\n",
      "Requirement already satisfied: proglog<=1.0.0 in c:\\users\\my pc\\appdata\\roaming\\python\\python39\\site-packages (from moviepy) (0.1.10)\n",
      "Requirement already satisfied: decorator<5.0,>=4.0.2 in c:\\users\\my pc\\appdata\\roaming\\python\\python39\\site-packages (from moviepy) (4.4.2)\n",
      "Requirement already satisfied: imageio<3.0,>=2.5 in c:\\programdata\\anaconda3\\lib\\site-packages (from moviepy) (2.19.3)\n",
      "Requirement already satisfied: requests<3.0,>=2.8.1 in c:\\users\\my pc\\appdata\\roaming\\python\\python39\\site-packages (from moviepy) (2.31.0)\n",
      "Requirement already satisfied: numpy>=1.17.3 in c:\\users\\my pc\\appdata\\roaming\\python\\python39\\site-packages (from moviepy) (1.24.3)\n",
      "Requirement already satisfied: imageio-ffmpeg>=0.2.0 in c:\\users\\my pc\\appdata\\roaming\\python\\python39\\site-packages (from moviepy) (0.4.8)\n",
      "Requirement already satisfied: tqdm<5.0,>=4.11.2 in c:\\programdata\\anaconda3\\lib\\site-packages (from moviepy) (4.64.1)\n",
      "Requirement already satisfied: pillow>=8.3.2 in c:\\programdata\\anaconda3\\lib\\site-packages (from imageio<3.0,>=2.5->moviepy) (9.2.0)\n",
      "Requirement already satisfied: urllib3<3,>=1.21.1 in c:\\programdata\\anaconda3\\lib\\site-packages (from requests<3.0,>=2.8.1->moviepy) (1.26.11)\n",
      "Requirement already satisfied: certifi>=2017.4.17 in c:\\programdata\\anaconda3\\lib\\site-packages (from requests<3.0,>=2.8.1->moviepy) (2022.9.14)\n",
      "Requirement already satisfied: idna<4,>=2.5 in c:\\users\\my pc\\appdata\\roaming\\python\\python39\\site-packages (from requests<3.0,>=2.8.1->moviepy) (2.10)\n",
      "Requirement already satisfied: charset-normalizer<4,>=2 in c:\\programdata\\anaconda3\\lib\\site-packages (from requests<3.0,>=2.8.1->moviepy) (2.0.4)\n",
      "Requirement already satisfied: colorama in c:\\programdata\\anaconda3\\lib\\site-packages (from tqdm<5.0,>=4.11.2->moviepy) (0.4.5)\n"
     ]
    }
   ],
   "source": [
    "!pip install moviepy"
   ]
  },
  {
   "cell_type": "code",
   "execution_count": 2,
   "id": "9cbc5c3e",
   "metadata": {},
   "outputs": [
    {
     "name": "stdout",
     "output_type": "stream",
     "text": [
      "MoviePy - Writing audio in Files\\I BELIEVE IN ANDREW TATE WHEN HE SAID ⚡💪✊.mp3\n"
     ]
    },
    {
     "name": "stderr",
     "output_type": "stream",
     "text": [
      "                                                                                                                       \r"
     ]
    },
    {
     "name": "stdout",
     "output_type": "stream",
     "text": [
      "MoviePy - Done.\n",
      "Audio extracted and saved to Files\\I BELIEVE IN ANDREW TATE WHEN HE SAID ⚡💪✊.mp3\n"
     ]
    }
   ],
   "source": [
    "from moviepy.editor import VideoFileClip\n",
    "\n",
    "\n",
    "video_path = 'Files\\I BELIEVE IN ANDREW TATE WHEN HE SAID ⚡💪✊.mp4'\n",
    "video = VideoFileClip(video_path)\n",
    "\n",
    "audio = video.audio\n",
    "audio_path = 'Files\\I BELIEVE IN ANDREW TATE WHEN HE SAID ⚡💪✊.mp3'\n",
    "audio.write_audiofile(audio_path)\n",
    "\n",
    "video.close()\n",
    "audio.close()\n",
    "\n",
    "print(f\"Audio extracted and saved to {audio_path}\")"
   ]
  }
 ],
 "metadata": {
  "kernelspec": {
   "display_name": "Python 3 (ipykernel)",
   "language": "python",
   "name": "python3"
  },
  "language_info": {
   "codemirror_mode": {
    "name": "ipython",
    "version": 3
   },
   "file_extension": ".py",
   "mimetype": "text/x-python",
   "name": "python",
   "nbconvert_exporter": "python",
   "pygments_lexer": "ipython3",
   "version": "3.9.13"
  }
 },
 "nbformat": 4,
 "nbformat_minor": 5
}
