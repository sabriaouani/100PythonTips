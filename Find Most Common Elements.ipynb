{
 "cells": [
  {
   "cell_type": "markdown",
   "id": "e9035473",
   "metadata": {},
   "source": [
    "# Find Most Common Elements:"
   ]
  },
  {
   "cell_type": "code",
   "execution_count": 1,
   "id": "c15c1c71",
   "metadata": {},
   "outputs": [
    {
     "name": "stdout",
     "output_type": "stream",
     "text": [
      "and: 3 times\n",
      "python: 2 times\n",
      "is: 2 times\n",
      "it: 2 times\n",
      "s: 2 times\n"
     ]
    }
   ],
   "source": [
    "from collections import Counter\n",
    "import re\n",
    "\n",
    "text = \"\"\"\n",
    "Python is an amazing programming language. It's widely used for web development,\n",
    "data analysis, scientific computing, artificial intelligence, and more. Python's\n",
    "syntax is clean and easy to read, making it a great choice for beginners and experts alike.\n",
    "\"\"\"\n",
    "\n",
    "\n",
    "words = re.findall(r'\\w+', text.lower())\n",
    "\n",
    "word_counts = Counter(words)\n",
    "\n",
    "most_common_words = word_counts.most_common(5)\n",
    "\n",
    "for word, count in most_common_words:\n",
    "    print(f\"{word}: {count} times\")"
   ]
  }
 ],
 "metadata": {
  "kernelspec": {
   "display_name": "Python 3 (ipykernel)",
   "language": "python",
   "name": "python3"
  },
  "language_info": {
   "codemirror_mode": {
    "name": "ipython",
    "version": 3
   },
   "file_extension": ".py",
   "mimetype": "text/x-python",
   "name": "python",
   "nbconvert_exporter": "python",
   "pygments_lexer": "ipython3",
   "version": "3.9.13"
  }
 },
 "nbformat": 4,
 "nbformat_minor": 5
}
