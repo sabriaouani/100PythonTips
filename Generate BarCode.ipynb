{
 "cells": [
  {
   "cell_type": "markdown",
   "id": "b7b18e6b",
   "metadata": {},
   "source": [
    "# Generate BarCode"
   ]
  },
  {
   "cell_type": "code",
   "execution_count": null,
   "id": "1c34a531",
   "metadata": {},
   "outputs": [],
   "source": [
    "!pip install python-barcode"
   ]
  },
  {
   "cell_type": "code",
   "execution_count": 2,
   "id": "5966b876",
   "metadata": {},
   "outputs": [
    {
     "data": {
      "image/png": "[encoded data removed]",
      "text/plain": [
       "<IPython.core.display.Image object>"
      ]
     },
     "metadata": {},
     "output_type": "display_data"
    }
   ],
   "source": [
    "import barcode\n",
    "from barcode.writer import ImageWriter\n",
    "from IPython.display import display, Image\n",
    "\n",
    "\n",
    "data = '3043065554304'\n",
    "ean = barcode.get('ean13', data, writer=ImageWriter())\n",
    "filename = ean.save(r'Files\\barcode')  \n",
    "\n",
    "display(Image(filename)) \n"
   ]
  }
 ],
 "metadata": {
  "kernelspec": {
   "display_name": "Python 3 (ipykernel)",
   "language": "python",
   "name": "python3"
  },
  "language_info": {
   "codemirror_mode": {
    "name": "ipython",
    "version": 3
   },
   "file_extension": ".py",
   "mimetype": "text/x-python",
   "name": "python",
   "nbconvert_exporter": "python",
   "pygments_lexer": "ipython3",
   "version": "3.9.13"
  }
 },
 "nbformat": 4,
 "nbformat_minor": 5
}
