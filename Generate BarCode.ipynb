{
 "cells": [
  {
   "cell_type": "markdown",
   "id": "b7b18e6b",
   "metadata": {},
   "source": [
    "# Generate BarCode"
   ]
  },
  {
   "cell_type": "code",
   "execution_count": 1,
   "id": "1c34a531",
   "metadata": {},
   "outputs": [
    {
     "name": "stdout",
     "output_type": "stream",
     "text": [
      "Defaulting to user installation because normal site-packages is not writeable\n",
      "Collecting python-barcode\n",
      "  Downloading python_barcode-0.15.1-py3-none-any.whl (212 kB)\n",
      "     ------------------------------------ 213.0/213.0 kB 810.9 kB/s eta 0:00:00\n",
      "Installing collected packages: python-barcode\n",
      "Successfully installed python-barcode-0.15.1\n"
     ]
    },
    {
     "name": "stderr",
     "output_type": "stream",
     "text": [
      "  WARNING: The script python-barcode.exe is installed in 'C:\\Users\\My PC\\AppData\\Roaming\\Python\\Python39\\Scripts' which is not on PATH.\n",
      "  Consider adding this directory to PATH or, if you prefer to suppress this warning, use --no-warn-script-location.\n"
     ]
    }
   ],
   "source": [
    "!pip install python-barcode"
   ]
  },
  {
   "cell_type": "code",
   "execution_count": 17,
   "id": "5966b876",
   "metadata": {},
   "outputs": [
    {
     "data": {
      "image/png": "[encoded data removed]",
      "text/plain": [
       "<IPython.core.display.Image object>"
      ]
     },
     "metadata": {},
     "output_type": "display_data"
    }
   ],
   "source": [
    "import barcode\n",
    "from barcode.writer import ImageWriter\n",
    "from IPython.display import display, Image\n",
    "\n",
    "\n",
    "data = '304304304304'\n",
    "ean = barcode.get('ean13', data, writer=ImageWriter())\n",
    "filename = ean.save(r'Files\\barcode')  \n",
    "\n",
    "display(Image(filename)) \n"
   ]
  }
 ],
 "metadata": {
  "kernelspec": {
   "display_name": "Python 3 (ipykernel)",
   "language": "python",
   "name": "python3"
  },
  "language_info": {
   "codemirror_mode": {
    "name": "ipython",
    "version": 3
   },
   "file_extension": ".py",
   "mimetype": "text/x-python",
   "name": "python",
   "nbconvert_exporter": "python",
   "pygments_lexer": "ipython3",
   "version": "3.9.13"
  }
 },
 "nbformat": 4,
 "nbformat_minor": 5
}
