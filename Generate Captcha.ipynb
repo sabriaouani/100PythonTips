{
 "cells": [
  {
   "cell_type": "markdown",
   "id": "e728fa87",
   "metadata": {},
   "source": [
    "# Generate Captcha "
   ]
  },
  {
   "cell_type": "code",
   "execution_count": 1,
   "id": "cbe7b6f4",
   "metadata": {},
   "outputs": [
    {
     "name": "stdout",
     "output_type": "stream",
     "text": [
      "Defaulting to user installation because normal site-packages is not writeable\n",
      "Collecting captcha\n",
      "  Downloading captcha-0.5.0-py3-none-any.whl (102 kB)\n",
      "     ------------------------------------ 102.2/102.2 kB 491.6 kB/s eta 0:00:00\n",
      "Requirement already satisfied: Pillow in c:\\programdata\\anaconda3\\lib\\site-packages (from captcha) (9.2.0)\n",
      "Installing collected packages: captcha\n",
      "Successfully installed captcha-0.5.0\n"
     ]
    }
   ],
   "source": [
    "!pip install captcha"
   ]
  },
  {
   "cell_type": "code",
   "execution_count": 3,
   "id": "6bd86e14",
   "metadata": {},
   "outputs": [
    {
     "data": {
      "image/png": "[encoded data removed]",
      "text/plain": [
       "<PIL.Image.Image image mode=RGB size=160x60>"
      ]
     },
     "metadata": {},
     "output_type": "display_data"
    },
    {
     "name": "stdout",
     "output_type": "stream",
     "text": [
      "Captcha Text: ET102\n"
     ]
    }
   ],
   "source": [
    "from captcha.image import ImageCaptcha\n",
    "from IPython.display import display\n",
    "import random\n",
    "import string\n",
    "\n",
    "image_captcha = ImageCaptcha()\n",
    "\n",
    "text = ''.join(random.choices(string.ascii_uppercase + string.digits, k=5))\n",
    "image = image_captcha.generate_image(text)\n",
    "display(image)\n",
    "\n",
    "image.save('Files\\captcha.png')\n",
    "\n",
    "\n",
    "print(f\"Captcha Text: {text}\")"
   ]
  }
 ],
 "metadata": {
  "kernelspec": {
   "display_name": "Python 3 (ipykernel)",
   "language": "python",
   "name": "python3"
  },
  "language_info": {
   "codemirror_mode": {
    "name": "ipython",
    "version": 3
   },
   "file_extension": ".py",
   "mimetype": "text/x-python",
   "name": "python",
   "nbconvert_exporter": "python",
   "pygments_lexer": "ipython3",
   "version": "3.9.13"
  }
 },
 "nbformat": 4,
 "nbformat_minor": 5
}
