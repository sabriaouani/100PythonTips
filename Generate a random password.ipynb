{
 "cells": [
  {
   "cell_type": "code",
   "execution_count": 1,
   "id": "cca9b427",
   "metadata": {},
   "outputs": [
    {
     "data": {
      "text/plain": [
       "'Fb]Y90K49e7C'"
      ]
     },
     "execution_count": 1,
     "metadata": {},
     "output_type": "execute_result"
    }
   ],
   "source": [
    "import string\n",
    "import random\n",
    "\n",
    "def generate_password(length=8):\n",
    "    characters = string.ascii_letters + string.digits + string.punctuation\n",
    "\n",
    "#random.choice to select characters\n",
    "    password = \"\".join(random.choice(characters) for _ in range(length))\n",
    "\n",
    "    return password\n",
    "#length 12\n",
    "generate_password(12)"
   ]
  }
 ],
 "metadata": {
  "kernelspec": {
   "display_name": "Python 3 (ipykernel)",
   "language": "python",
   "name": "python3"
  },
  "language_info": {
   "codemirror_mode": {
    "name": "ipython",
    "version": 3
   },
   "file_extension": ".py",
   "mimetype": "text/x-python",
   "name": "python",
   "nbconvert_exporter": "python",
   "pygments_lexer": "ipython3",
   "version": "3.9.13"
  }
 },
 "nbformat": 4,
 "nbformat_minor": 5
}
