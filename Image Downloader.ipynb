{
 "cells": [
  {
   "cell_type": "markdown",
   "id": "d94c93f8",
   "metadata": {},
   "source": [
    "# Image Downloader"
   ]
  },
  {
   "cell_type": "code",
   "execution_count": 1,
   "id": "f875843d",
   "metadata": {},
   "outputs": [
    {
     "name": "stdout",
     "output_type": "stream",
     "text": [
      "Image downloaded successfully as Files\\downloaded_tate_image.jpg\n"
     ]
    }
   ],
   "source": [
    "import requests\n",
    "\n",
    "def download_image(url, file_name):\n",
    "    response = requests.get(url)\n",
    "    if response.status_code == 200:\n",
    "        with open(file_name, 'wb') as file:\n",
    "            file.write(response.content)\n",
    "        print(f\"Image downloaded successfully as {file_name}\")\n",
    "    else:\n",
    "        print(\"Failed to download the image.\")\n",
    "\n",
    "image_url = \"https://lckingscourier.net/wp-content/uploads/2022/08/tate-900x900.jpg\"  \n",
    "file_name = \"Files\\downloaded_tate_image.jpg\" \n",
    "\n",
    "download_image(image_url, file_name)\n"
   ]
  }
 ],
 "metadata": {
  "kernelspec": {
   "display_name": "Python 3 (ipykernel)",
   "language": "python",
   "name": "python3"
  },
  "language_info": {
   "codemirror_mode": {
    "name": "ipython",
    "version": 3
   },
   "file_extension": ".py",
   "mimetype": "text/x-python",
   "name": "python",
   "nbconvert_exporter": "python",
   "pygments_lexer": "ipython3",
   "version": "3.9.13"
  }
 },
 "nbformat": 4,
 "nbformat_minor": 5
}
