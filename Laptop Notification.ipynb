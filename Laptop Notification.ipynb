{
 "cells": [
  {
   "cell_type": "markdown",
   "id": "b7e64268",
   "metadata": {},
   "source": [
    "# Laptop Notification"
   ]
  },
  {
   "cell_type": "code",
   "execution_count": 1,
   "id": "13762c2d",
   "metadata": {},
   "outputs": [
    {
     "name": "stdout",
     "output_type": "stream",
     "text": [
      "Defaulting to user installation because normal site-packages is not writeable\n",
      "Collecting plyer\n",
      "  Downloading plyer-2.1.0-py2.py3-none-any.whl (142 kB)\n",
      "     ------------------------------------ 142.3/142.3 kB 846.3 kB/s eta 0:00:00\n",
      "Installing collected packages: plyer\n",
      "Successfully installed plyer-2.1.0\n"
     ]
    }
   ],
   "source": [
    "!pip install plyer"
   ]
  },
  {
   "cell_type": "code",
   "execution_count": 2,
   "id": "942238b7",
   "metadata": {},
   "outputs": [],
   "source": [
    "from plyer import notification\n",
    "\n",
    "def send_notification(title, message):\n",
    "    notification.notify(\n",
    "        title=title,\n",
    "        message=message,\n",
    "        app_icon=None,  \n",
    "        timeout=10,  \n",
    "    )\n",
    "\n",
    "send_notification('Sabri', 'Wake up Neo')"
   ]
  },
  {
   "cell_type": "code",
   "execution_count": null,
   "id": "d43bc485",
   "metadata": {},
   "outputs": [],
   "source": []
  }
 ],
 "metadata": {
  "kernelspec": {
   "display_name": "Python 3 (ipykernel)",
   "language": "python",
   "name": "python3"
  },
  "language_info": {
   "codemirror_mode": {
    "name": "ipython",
    "version": 3
   },
   "file_extension": ".py",
   "mimetype": "text/x-python",
   "name": "python",
   "nbconvert_exporter": "python",
   "pygments_lexer": "ipython3",
   "version": "3.9.13"
  }
 },
 "nbformat": 4,
 "nbformat_minor": 5
}
