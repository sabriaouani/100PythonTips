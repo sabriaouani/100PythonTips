{
 "cells": [
  {
   "cell_type": "markdown",
   "id": "ae722911",
   "metadata": {},
   "source": [
    "# Live Clock"
   ]
  },
  {
   "cell_type": "code",
   "execution_count": null,
   "id": "90d18fc0",
   "metadata": {},
   "outputs": [
    {
     "name": "stdout",
     "output_type": "stream",
     "text": [
      "Live Clock: 00:17:16\n"
     ]
    }
   ],
   "source": [
    "from IPython.display import clear_output\n",
    "import time\n",
    "\n",
    "def live_clock():\n",
    "    try:\n",
    "        while True:\n",
    "            current_time = time.strftime(\"%H:%M:%S\")\n",
    "            clear_output(wait=True)\n",
    "            print(\"Live Clock:\", current_time)\n",
    "            time.sleep(1)\n",
    "    except KeyboardInterrupt:\n",
    "        print(\"Clock stopped.\")\n",
    "\n",
    "live_clock()\n"
   ]
  }
 ],
 "metadata": {
  "kernelspec": {
   "display_name": "Python 3 (ipykernel)",
   "language": "python",
   "name": "python3"
  },
  "language_info": {
   "codemirror_mode": {
    "name": "ipython",
    "version": 3
   },
   "file_extension": ".py",
   "mimetype": "text/x-python",
   "name": "python",
   "nbconvert_exporter": "python",
   "pygments_lexer": "ipython3",
   "version": "3.9.13"
  }
 },
 "nbformat": 4,
 "nbformat_minor": 5
}
