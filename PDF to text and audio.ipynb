{
 "cells": [
  {
   "cell_type": "code",
   "execution_count": 1,
   "id": "fc73e4e8",
   "metadata": {},
   "outputs": [
    {
     "name": "stdout",
     "output_type": "stream",
     "text": [
      "Defaulting to user installation because normal site-packages is not writeable\n",
      "Collecting PyPDF2\n",
      "  Downloading pypdf2-3.0.1-py3-none-any.whl (232 kB)\n",
      "     ------------------------------------ 232.6/232.6 kB 835.8 kB/s eta 0:00:00\n",
      "Collecting pyttsx3\n",
      "  Downloading pyttsx3-2.90-py3-none-any.whl (39 kB)\n",
      "Requirement already satisfied: typing_extensions>=3.10.0.0 in c:\\programdata\\anaconda3\\lib\\site-packages (from PyPDF2) (4.3.0)\n",
      "Requirement already satisfied: comtypes in c:\\programdata\\anaconda3\\lib\\site-packages (from pyttsx3) (1.1.10)\n",
      "Collecting pypiwin32\n",
      "  Downloading pypiwin32-223-py3-none-any.whl (1.7 kB)\n",
      "Requirement already satisfied: pywin32 in c:\\programdata\\anaconda3\\lib\\site-packages (from pyttsx3) (302)\n",
      "Installing collected packages: pypiwin32, PyPDF2, pyttsx3\n",
      "Successfully installed PyPDF2-3.0.1 pypiwin32-223 pyttsx3-2.90\n"
     ]
    }
   ],
   "source": [
    "!pip install PyPDF2 pyttsx3"
   ]
  },
  {
   "cell_type": "markdown",
   "id": "ecb22623",
   "metadata": {},
   "source": [
    "# PDF to text"
   ]
  },
  {
   "cell_type": "code",
   "execution_count": 9,
   "id": "9ea36f6f",
   "metadata": {},
   "outputs": [
    {
     "data": {
      "text/plain": [
       "\"Look, if you had one shot, or one opportunity  \\nTo seize everything you ever wanted, in one moment  \\nWould you capture it, or just let it slip?  \\n \\nYo! His palms are sweaty, knees weak, arms are heavy  \\nThere's vomit on his sweater already: Mom's spaghetti  \\nHe's ner vous, but on the surface he looks calm and ready  \\nTo drop bombs, but he keeps on forgetting  \\nWhat he wrote down, the whole crowd goes so loud  \\nHe opens his mouth, but the words won't come out  \\nHe's choking, how? Everybody's joking now  \\nThe clock's run out, time 's up, over, blaow!  \\nSnap back to reality, ope there goes gravity, ope  \\nThere goes Rabbit, he choked, he's so mad but he won't  \\nGive up that easy, no, he won't have it, he knows  \\nHis whole back's to these ropes, it don't matter, he's dope  \\nHe knows that but he' s broke, he's so stagnant, he knows  \\nWhen he goes back to this mobile home, that's when it's  \\nBack to the lab again yo, this whole rhapsody  \\nBetter go capture this moment and hope it don't pass him, and  \\n \\nYou better lose yourself in the music  \\nThe moment, you o wn it, you better never let it go  \\nYou only get one shot, do not miss your chance to blow  \\nThis opportunity comes once in a lifetime, yo  \\nYou better lose yourself in the music  \\nThe moment, you own it, you better never let it go  \\nYou only get one shot, do not mi ss your chance to blow  \\nThis opportunity comes once in a lifetime, yo  \\nYou better…  \\n His soul's escaping through this hole that is gaping  \\nThis world is mine for the taking, make me king  \\nAs we move toward a New World Order  \\nA normal life is boring; but superstardom's  \\nClose to post -mortem, it only grows harder  \\nHomie grows hotter, he blows, it's all over  \\nThese hoes is all on him, coast -to-coast shows  \\nHe's known as the Globetrotter, lonely roads  \\nGod only knows, he's grown farthe r from home, he's no father  \\nHe goes home and barely knows his own daughter  \\nBut hold your nose, 'cause here goes the cold water  \\nThese hoes don't want him no mo', he's cold product  \\nThey moved on to the next schmoe who flows  \\nHe nose -dove and sold nada, and so  the soap opera  \\nIs told, it unfolds, I suppose it's old, partner  \\nBut the beat goes on: da da dum da dum da da da da  \\n \\nYou better lose yourself in the music  \\nThe moment, you own it, you better never let it go  \\nYou only get one shot, do not miss your chance to blow  \\nThis opportunity comes once in a lifetime, yo  \\nYou better lose yourself in the music  \\nThe moment, you own it, you better never let it go  \\nYou only get one shot, do not miss your chance to blow  \\nThis opportunity comes once in a lifetime, yo  \\nYou better…  \\n \\nNo more games, I'ma change what you call rage  \\nTear this motherfuckin' roof off like two dogs caged  \\nI was playin' in the beginning, the mood all changed  \\nI've been chewed up and spit out and booed off stage  But I kept rhymin' and stepped right in the next cy pher  \\nBest believe somebody's payin' the Pied Piper  \\nAll the pain inside amplified by the  \\nFact that I can't get by with my 9 -to-5 \\nAnd I can't provide the right type of life for my family  \\n'Cause man, these goddamn food stamps don't buy diapers  \\nAnd there's no movie, there's no Mekhi Phifer, this is my life  \\nAnd these times are so hard, and it's gettin' even harder  \\nTryna feed and water my seed, plus teeter -totter  \\nCaught up between bein' a father and a prima donna  \\nBaby mama drama, screamin' on her, too much for me  to wanna  \\nStay in one spot, another day of monotony's  \\nGotten me to the point I'm like a snail, I've got  \\nTo formulate a plot or end up in jail or shot  \\nSuccess is my only motherfuckin' option, failure's not  \\nMom, I love you, but this trailer's got  \\nTo go; I ca nnot grow old in Salem's Lot  \\nSo here I go, it's my shot: feet, fail me not  \\nThis may be the only opportunity that I got  \\n \\nYou better lose yourself in the music  \\nThe moment, you own it, you better never let it go (go)  \\nYou only get one shot, do not miss your ch ance to blow  \\nThis opportunity comes once in a lifetime, yo  \\nYou better lose yourself in the music  \\nThe moment, you own it, you better never let it go (go)  \\nYou only get one shot, do not miss your chance to blow  \\nThis opportunity comes once in a lifetime, yo  \\nYou better…  \\n \\nYou can do anything you set your mind to, man  \""
      ]
     },
     "execution_count": 9,
     "metadata": {},
     "output_type": "execute_result"
    }
   ],
   "source": [
    "import PyPDF2\n",
    "\n",
    "def pdf_to_text(pdf_path):\n",
    "    # Open the PDF file\n",
    "    pdf_file = open(pdf_path, 'rb')\n",
    "    pdf_reader = PyPDF2.PdfReader(pdf_file)\n",
    "    text = ''\n",
    "\n",
    "    for page in pdf_reader.pages:\n",
    "#Get the text from the page\n",
    "        text += page.extract_text()\n",
    "\n",
    "\n",
    "    pdf_file.close()\n",
    "\n",
    "    return text\n",
    "\n",
    "#Example:\n",
    "pdf_path = 'Files\\lose yourself.pdf'\n",
    "text = pdf_to_text(pdf_path)\n",
    "text"
   ]
  },
  {
   "cell_type": "markdown",
   "id": "ee6fe935",
   "metadata": {},
   "source": [
    "# PDF to AUDIO"
   ]
  },
  {
   "cell_type": "code",
   "execution_count": 4,
   "id": "863890f2",
   "metadata": {},
   "outputs": [
    {
     "name": "stdout",
     "output_type": "stream",
     "text": [
      "Defaulting to user installation because normal site-packages is not writeable"
     ]
    },
    {
     "name": "stderr",
     "output_type": "stream",
     "text": [
      "  WARNING: The script gtts-cli.exe is installed in 'C:\\Users\\My PC\\AppData\\Roaming\\Python\\Python39\\Scripts' which is not on PATH.\n",
      "  Consider adding this directory to PATH or, if you prefer to suppress this warning, use --no-warn-script-location.\n"
     ]
    },
    {
     "name": "stdout",
     "output_type": "stream",
     "text": [
      "\n",
      "Collecting gTTS\n",
      "  Downloading gTTS-2.3.2-py3-none-any.whl (28 kB)\n",
      "Requirement already satisfied: PyMuPDF in c:\\users\\my pc\\appdata\\roaming\\python\\python39\\site-packages (1.22.5)\n",
      "Requirement already satisfied: requests<3,>=2.27 in c:\\users\\my pc\\appdata\\roaming\\python\\python39\\site-packages (from gTTS) (2.31.0)\n",
      "Requirement already satisfied: click<8.2,>=7.1 in c:\\programdata\\anaconda3\\lib\\site-packages (from gTTS) (8.0.4)\n",
      "Requirement already satisfied: colorama in c:\\programdata\\anaconda3\\lib\\site-packages (from click<8.2,>=7.1->gTTS) (0.4.5)\n",
      "Requirement already satisfied: idna<4,>=2.5 in c:\\users\\my pc\\appdata\\roaming\\python\\python39\\site-packages (from requests<3,>=2.27->gTTS) (2.10)\n",
      "Requirement already satisfied: certifi>=2017.4.17 in c:\\programdata\\anaconda3\\lib\\site-packages (from requests<3,>=2.27->gTTS) (2022.9.14)\n",
      "Requirement already satisfied: urllib3<3,>=1.21.1 in c:\\programdata\\anaconda3\\lib\\site-packages (from requests<3,>=2.27->gTTS) (1.26.11)\n",
      "Requirement already satisfied: charset-normalizer<4,>=2 in c:\\programdata\\anaconda3\\lib\\site-packages (from requests<3,>=2.27->gTTS) (2.0.4)\n",
      "Installing collected packages: gTTS\n",
      "Successfully installed gTTS-2.3.2\n"
     ]
    }
   ],
   "source": [
    "!pip install gTTS PyMuPDF"
   ]
  },
  {
   "cell_type": "code",
   "execution_count": 6,
   "id": "de3d4e6b",
   "metadata": {},
   "outputs": [],
   "source": [
    "from gtts import gTTS\n",
    "import fitz  # PyMuPDF\n",
    "\n",
    "def create_audiobook(pdf_path, mp3_path):\n",
    "    doc = fitz.open(pdf_path)\n",
    "\n",
    "    text = \"\"\n",
    "\n",
    "    for page in doc:\n",
    "# Extract the text\n",
    "        text += page.get_text()\n",
    "\n",
    "    # Create a gTTS object\n",
    "    tts = gTTS(text)\n",
    "    tts.save(mp3_path)\n",
    "\n",
    "# Example:\n",
    "pdf_path = 'Files\\lose yourself.pdf'\n",
    "mp3_path = 'Files\\lose yourself.mp3'\n",
    "create_audiobook(pdf_path, mp3_path)\n"
   ]
  }
 ],
 "metadata": {
  "kernelspec": {
   "display_name": "Python 3 (ipykernel)",
   "language": "python",
   "name": "python3"
  },
  "language_info": {
   "codemirror_mode": {
    "name": "ipython",
    "version": 3
   },
   "file_extension": ".py",
   "mimetype": "text/x-python",
   "name": "python",
   "nbconvert_exporter": "python",
   "pygments_lexer": "ipython3",
   "version": "3.9.13"
  }
 },
 "nbformat": 4,
 "nbformat_minor": 5
}
