{
 "cells": [
  {
   "cell_type": "code",
   "execution_count": null,
   "id": "fc73e4e8",
   "metadata": {},
   "outputs": [],
   "source": [
    "!pip install PyPDF2 pyttsx3"
   ]
  },
  {
   "cell_type": "markdown",
   "id": "ecb22623",
   "metadata": {},
   "source": [
    "# PDF to text"
   ]
  },
  {
   "cell_type": "code",
   "execution_count": 1,
   "id": "9ea36f6f",
   "metadata": {},
   "outputs": [
    {
     "data": {
      "text/plain": [
       "\"Look, if you had one shot, or one opportunity  \\nTo seize everything you ever wanted, in one moment  \\nWould you capture it, or just let it slip?  \\n \\nYo! His palms are sweaty, knees weak, arms are heavy  \\nThere's vomit on his sweater already: Mom's spaghetti  \\nHe's ner vous, but on the surface he looks calm and ready  \\nTo drop bombs, but he keeps on forgetting  \\nWhat he wrote down, the whole crowd goes so loud  \\nHe opens his mouth, but the words won't come out  \\nHe's choking, how? Everybody's joking now  \\nThe clock's run out, time 's up, over, blaow!  \\nSnap back to reality, ope there goes gravity, ope  \\nThere goes Rabbit, he choked, he's so mad but he won't  \\nGive up that easy, no, he won't have it, he knows  \\nHis whole back's to these ropes, it don't matter, he's dope  \\nHe knows that but he' s broke, he's so stagnant, he knows  \\nWhen he goes back to this mobile home, that's when it's  \\nBack to the lab again yo, this whole rhapsody  \\nBetter go capture this moment and hope it don't pass him, and  \\n \\nYou better lose yourself in the music  \\nThe moment, you o wn it, you better never let it go  \\nYou only get one shot, do not miss your chance to blow  \\nThis opportunity comes once in a lifetime, yo  \\nYou better lose yourself in the music  \\nThe moment, you own it, you better never let it go  \\nYou only get one shot, do not mi ss your chance to blow  \\nThis opportunity comes once in a lifetime, yo  \\nYou better…  \\n His soul's escaping through this hole that is gaping  \\nThis world is mine for the taking, make me king  \\nAs we move toward a New World Order  \\nA normal life is boring; but superstardom's  \\nClose to post -mortem, it only grows harder  \\nHomie grows hotter, he blows, it's all over  \\nThese hoes is all on him, coast -to-coast shows  \\nHe's known as the Globetrotter, lonely roads  \\nGod only knows, he's grown farthe r from home, he's no father  \\nHe goes home and barely knows his own daughter  \\nBut hold your nose, 'cause here goes the cold water  \\nThese hoes don't want him no mo', he's cold product  \\nThey moved on to the next schmoe who flows  \\nHe nose -dove and sold nada, and so  the soap opera  \\nIs told, it unfolds, I suppose it's old, partner  \\nBut the beat goes on: da da dum da dum da da da da  \\n \\nYou better lose yourself in the music  \\nThe moment, you own it, you better never let it go  \\nYou only get one shot, do not miss your chance to blow  \\nThis opportunity comes once in a lifetime, yo  \\nYou better lose yourself in the music  \\nThe moment, you own it, you better never let it go  \\nYou only get one shot, do not miss your chance to blow  \\nThis opportunity comes once in a lifetime, yo  \\nYou better…  \\n \\nNo more games, I'ma change what you call rage  \\nTear this motherfuckin' roof off like two dogs caged  \\nI was playin' in the beginning, the mood all changed  \\nI've been chewed up and spit out and booed off stage  But I kept rhymin' and stepped right in the next cy pher  \\nBest believe somebody's payin' the Pied Piper  \\nAll the pain inside amplified by the  \\nFact that I can't get by with my 9 -to-5 \\nAnd I can't provide the right type of life for my family  \\n'Cause man, these goddamn food stamps don't buy diapers  \\nAnd there's no movie, there's no Mekhi Phifer, this is my life  \\nAnd these times are so hard, and it's gettin' even harder  \\nTryna feed and water my seed, plus teeter -totter  \\nCaught up between bein' a father and a prima donna  \\nBaby mama drama, screamin' on her, too much for me  to wanna  \\nStay in one spot, another day of monotony's  \\nGotten me to the point I'm like a snail, I've got  \\nTo formulate a plot or end up in jail or shot  \\nSuccess is my only motherfuckin' option, failure's not  \\nMom, I love you, but this trailer's got  \\nTo go; I ca nnot grow old in Salem's Lot  \\nSo here I go, it's my shot: feet, fail me not  \\nThis may be the only opportunity that I got  \\n \\nYou better lose yourself in the music  \\nThe moment, you own it, you better never let it go (go)  \\nYou only get one shot, do not miss your ch ance to blow  \\nThis opportunity comes once in a lifetime, yo  \\nYou better lose yourself in the music  \\nThe moment, you own it, you better never let it go (go)  \\nYou only get one shot, do not miss your chance to blow  \\nThis opportunity comes once in a lifetime, yo  \\nYou better…  \\n \\nYou can do anything you set your mind to, man  \""
      ]
     },
     "execution_count": 1,
     "metadata": {},
     "output_type": "execute_result"
    }
   ],
   "source": [
    "import PyPDF2\n",
    "\n",
    "def pdf_to_text(pdf_path):\n",
    "    # Open the PDF file\n",
    "    pdf_file = open(pdf_path, 'rb')\n",
    "    pdf_reader = PyPDF2.PdfReader(pdf_file)\n",
    "    text = ''\n",
    "\n",
    "    for page in pdf_reader.pages:\n",
    "#Get the text from the page\n",
    "        text += page.extract_text()\n",
    "\n",
    "\n",
    "    pdf_file.close()\n",
    "\n",
    "    return text\n",
    "\n",
    "#Example:\n",
    "pdf_path = 'Files\\lose yourself.pdf'\n",
    "text = pdf_to_text(pdf_path)\n",
    "text"
   ]
  },
  {
   "cell_type": "markdown",
   "id": "ee6fe935",
   "metadata": {},
   "source": [
    "# PDF to AUDIO"
   ]
  },
  {
   "cell_type": "code",
   "execution_count": null,
   "id": "863890f2",
   "metadata": {},
   "outputs": [],
   "source": [
    "!pip install gTTS PyMuPDF"
   ]
  },
  {
   "cell_type": "code",
   "execution_count": 3,
   "id": "de3d4e6b",
   "metadata": {},
   "outputs": [],
   "source": [
    "from gtts import gTTS\n",
    "import fitz  # PyMuPDF\n",
    "\n",
    "def create_audiobook(pdf_path, mp3_path):\n",
    "    doc = fitz.open(pdf_path)\n",
    "\n",
    "    text = \"\"\n",
    "\n",
    "    for page in doc:\n",
    "# Extract the text\n",
    "        text += page.get_text()\n",
    "\n",
    "    # Create a gTTS object\n",
    "    tts = gTTS(text)\n",
    "    tts.save(mp3_path)\n",
    "\n",
    "# Example:\n",
    "pdf_path = 'Files\\lose yourself.pdf'\n",
    "mp3_path = 'Files\\lose yourself.mp3'\n",
    "create_audiobook(pdf_path, mp3_path)\n"
   ]
  }
 ],
 "metadata": {
  "kernelspec": {
   "display_name": "Python 3 (ipykernel)",
   "language": "python",
   "name": "python3"
  },
  "language_info": {
   "codemirror_mode": {
    "name": "ipython",
    "version": 3
   },
   "file_extension": ".py",
   "mimetype": "text/x-python",
   "name": "python",
   "nbconvert_exporter": "python",
   "pygments_lexer": "ipython3",
   "version": "3.9.13"
  }
 },
 "nbformat": 4,
 "nbformat_minor": 5
}
