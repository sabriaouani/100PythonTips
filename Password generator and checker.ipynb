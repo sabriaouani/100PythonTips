{
 "cells": [
  {
   "cell_type": "markdown",
   "id": "c989457c",
   "metadata": {},
   "source": [
    "# Random password generator"
   ]
  },
  {
   "cell_type": "code",
   "execution_count": 8,
   "id": "cca9b427",
   "metadata": {},
   "outputs": [
    {
     "data": {
      "text/plain": [
       "')WkBs`]5~sD2'"
      ]
     },
     "execution_count": 8,
     "metadata": {},
     "output_type": "execute_result"
    }
   ],
   "source": [
    "import string\n",
    "import random\n",
    "\n",
    "def generate_password(length=8):\n",
    "    characters = string.ascii_letters + string.digits + string.punctuation\n",
    "\n",
    "#random.choice to select characters\n",
    "    password = \"\".join(random.choice(characters) for _ in range(length))\n",
    "\n",
    "    return password\n",
    "#length 12\n",
    "generate_password(12)"
   ]
  },
  {
   "cell_type": "markdown",
   "id": "7d6c54c5",
   "metadata": {},
   "source": [
    "# Creating a Password Strength Checker"
   ]
  },
  {
   "cell_type": "code",
   "execution_count": 9,
   "id": "b8f562db",
   "metadata": {},
   "outputs": [
    {
     "name": "stdout",
     "output_type": "stream",
     "text": [
      "Enter a password: )WkBs`]5~sD2\n",
      "Strong: Password meets the requirements.\n"
     ]
    }
   ],
   "source": [
    "import re\n",
    "\n",
    "def check_password_strength(password):\n",
    "    # Check password length\n",
    "    if len(password) < 8:\n",
    "        return \"Weak: Password should be at least 8 characters long.\"\n",
    "    \n",
    "#Check uppercase letters\n",
    "    if not any(char.isupper() for char in password):\n",
    "        return \"Weak: Password should contain at least one uppercase letter.\"\n",
    "    # Check for lowercase letters\n",
    "    if not any(char.islower() for char in password):\n",
    "        return \"Weak: Password should contain at least one lowercase letter.\"\n",
    "    \n",
    " # Check for digits\n",
    "    if not any(char.isdigit() for char in password):\n",
    "        return \"Weak: Password should contain at least one digit.\"\n",
    "    \n",
    "# Check special characters\n",
    "    if not re.search(r\"[!@#$%^&*()_+{}\\[\\]:;<>,.?~\\\\/\\\"]\", password):\n",
    "        return \"Weak: Password should contain at least one special character.\"\n",
    "    \n",
    "    return \"Strong: Password meets the requirements.\"\n",
    "\n",
    "if __name__ == \"__main__\":\n",
    "    password = input(\"Enter a password: \")\n",
    "    result = check_password_strength(password)\n",
    "    print(result)\n"
   ]
  }
 ],
 "metadata": {
  "kernelspec": {
   "display_name": "Python 3 (ipykernel)",
   "language": "python",
   "name": "python3"
  },
  "language_info": {
   "codemirror_mode": {
    "name": "ipython",
    "version": 3
   },
   "file_extension": ".py",
   "mimetype": "text/x-python",
   "name": "python",
   "nbconvert_exporter": "python",
   "pygments_lexer": "ipython3",
   "version": "3.9.13"
  }
 },
 "nbformat": 4,
 "nbformat_minor": 5
}
