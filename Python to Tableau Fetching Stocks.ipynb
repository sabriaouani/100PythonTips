{
 "cells": [
  {
   "cell_type": "code",
   "execution_count": null,
   "id": "26f711e3",
   "metadata": {},
   "outputs": [],
   "source": [
    "!pip install tableauhyperapi"
   ]
  },
  {
   "cell_type": "code",
   "execution_count": 1,
   "id": "950b6d4f",
   "metadata": {},
   "outputs": [],
   "source": [
    "import yfinance as yf\n",
    "import pandas as pd\n",
    "from tableauhyperapi import HyperProcess, Connection, TableDefinition, SqlType, Telemetry, CreateMode, Inserter"
   ]
  },
  {
   "cell_type": "code",
   "execution_count": 2,
   "id": "484df9d4",
   "metadata": {},
   "outputs": [],
   "source": [
    "def dataframe_to_hyper(df, table_name, hyper_name):\n",
    "    with HyperProcess(telemetry=Telemetry.SEND_USAGE_DATA_TO_TABLEAU) as hyper:\n",
    "        with Connection(endpoint=hyper.endpoint, database=hyper_name, create_mode=CreateMode.CREATE_AND_REPLACE) as connection:\n",
    "            \n",
    "            columns = []\n",
    "            for col_name in df.columns:\n",
    "                if df[col_name].dtype == 'O':\n",
    "                    col_type = SqlType.text()\n",
    "                elif df[col_name].dtype == 'datetime64[ns]':\n",
    "                    col_type = SqlType.timestamp()\n",
    "                else:\n",
    "                    col_type = SqlType.double()\n",
    "                columns.append(TableDefinition.Column(name=col_name, type=col_type))\n",
    "            table_definition = TableDefinition(table_name=table_name, columns=columns)\n",
    "            connection.catalog.create_table(table_definition)\n",
    "            \n",
    "\n",
    "            with Inserter(connection, table_definition) as inserter:\n",
    "                inserter.add_rows(rows=df.values)\n",
    "                inserter.execute()"
   ]
  },
  {
   "cell_type": "code",
   "execution_count": 3,
   "id": "eb6cb14a",
   "metadata": {},
   "outputs": [
    {
     "name": "stdout",
     "output_type": "stream",
     "text": [
      "[*********************100%***********************]  1 of 1 completed\n"
     ]
    }
   ],
   "source": [
    "df = yf.download('^GSPC', start='2018-08-01', end='2023-09-16')"
   ]
  },
  {
   "cell_type": "code",
   "execution_count": 4,
   "id": "7142c6b4",
   "metadata": {},
   "outputs": [],
   "source": [
    "df = df.reset_index()"
   ]
  },
  {
   "cell_type": "code",
   "execution_count": 5,
   "id": "f326c466",
   "metadata": {},
   "outputs": [],
   "source": [
    "dataframe_to_hyper(df, \"SampleTable\", \"Files/spx500.hyper\")"
   ]
  }
 ],
 "metadata": {
  "kernelspec": {
   "display_name": "Python 3 (ipykernel)",
   "language": "python",
   "name": "python3"
  },
  "language_info": {
   "codemirror_mode": {
    "name": "ipython",
    "version": 3
   },
   "file_extension": ".py",
   "mimetype": "text/x-python",
   "name": "python",
   "nbconvert_exporter": "python",
   "pygments_lexer": "ipython3",
   "version": "3.9.13"
  }
 },
 "nbformat": 4,
 "nbformat_minor": 5
}
