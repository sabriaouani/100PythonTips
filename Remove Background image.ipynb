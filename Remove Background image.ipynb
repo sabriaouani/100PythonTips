{
 "cells": [
  {
   "cell_type": "markdown",
   "id": "7b2b8c20",
   "metadata": {},
   "source": [
    "# Remove Background Image"
   ]
  },
  {
   "cell_type": "code",
   "execution_count": 1,
   "id": "b4ed301e",
   "metadata": {},
   "outputs": [
    {
     "name": "stdout",
     "output_type": "stream",
     "text": [
      "Defaulting to user installation because normal site-packages is not writeable\n",
      "Requirement already satisfied: rembg in c:\\users\\my pc\\appdata\\roaming\\python\\python39\\site-packages (2.0.50)\n",
      "Requirement already satisfied: pillow in c:\\programdata\\anaconda3\\lib\\site-packages (9.2.0)\n",
      "Requirement already satisfied: scipy in c:\\programdata\\anaconda3\\lib\\site-packages (from rembg) (1.9.1)\n",
      "Requirement already satisfied: numpy in c:\\users\\my pc\\appdata\\roaming\\python\\python39\\site-packages (from rembg) (1.24.3)\n",
      "Requirement already satisfied: opencv-python-headless in c:\\users\\my pc\\appdata\\roaming\\python\\python39\\site-packages (from rembg) (4.8.0.74)\n",
      "Requirement already satisfied: pooch in c:\\users\\my pc\\appdata\\roaming\\python\\python39\\site-packages (from rembg) (1.7.0)\n",
      "Requirement already satisfied: pymatting in c:\\users\\my pc\\appdata\\roaming\\python\\python39\\site-packages (from rembg) (1.1.8)\n",
      "Requirement already satisfied: tqdm in c:\\programdata\\anaconda3\\lib\\site-packages (from rembg) (4.64.1)\n",
      "Requirement already satisfied: onnxruntime in c:\\users\\my pc\\appdata\\roaming\\python\\python39\\site-packages (from rembg) (1.15.1)\n",
      "Requirement already satisfied: scikit-image in c:\\programdata\\anaconda3\\lib\\site-packages (from rembg) (0.19.2)\n",
      "Requirement already satisfied: coloredlogs in c:\\users\\my pc\\appdata\\roaming\\python\\python39\\site-packages (from onnxruntime->rembg) (15.0.1)\n",
      "Requirement already satisfied: flatbuffers in c:\\users\\my pc\\appdata\\roaming\\python\\python39\\site-packages (from onnxruntime->rembg) (23.5.26)\n",
      "Requirement already satisfied: packaging in c:\\programdata\\anaconda3\\lib\\site-packages (from onnxruntime->rembg) (21.3)\n",
      "Requirement already satisfied: sympy in c:\\programdata\\anaconda3\\lib\\site-packages (from onnxruntime->rembg) (1.10.1)\n",
      "Requirement already satisfied: protobuf in c:\\users\\my pc\\appdata\\roaming\\python\\python39\\site-packages (from onnxruntime->rembg) (4.22.4)\n",
      "Requirement already satisfied: platformdirs>=2.5.0 in c:\\programdata\\anaconda3\\lib\\site-packages (from pooch->rembg) (2.5.2)\n",
      "Requirement already satisfied: requests>=2.19.0 in c:\\users\\my pc\\appdata\\roaming\\python\\python39\\site-packages (from pooch->rembg) (2.31.0)\n",
      "Requirement already satisfied: numba!=0.49.0 in c:\\programdata\\anaconda3\\lib\\site-packages (from pymatting->rembg) (0.55.1)\n",
      "Requirement already satisfied: imageio>=2.4.1 in c:\\programdata\\anaconda3\\lib\\site-packages (from scikit-image->rembg) (2.19.3)\n",
      "Requirement already satisfied: tifffile>=2019.7.26 in c:\\programdata\\anaconda3\\lib\\site-packages (from scikit-image->rembg) (2021.7.2)\n",
      "Requirement already satisfied: PyWavelets>=1.1.1 in c:\\programdata\\anaconda3\\lib\\site-packages (from scikit-image->rembg) (1.3.0)\n",
      "Requirement already satisfied: networkx>=2.2 in c:\\programdata\\anaconda3\\lib\\site-packages (from scikit-image->rembg) (2.8.4)\n",
      "Requirement already satisfied: colorama in c:\\programdata\\anaconda3\\lib\\site-packages (from tqdm->rembg) (0.4.5)\n",
      "Requirement already satisfied: llvmlite<0.39,>=0.38.0rc1 in c:\\programdata\\anaconda3\\lib\\site-packages (from numba!=0.49.0->pymatting->rembg) (0.38.0)\n",
      "Collecting numpy\n",
      "  Using cached numpy-1.21.6-cp39-cp39-win_amd64.whl (14.0 MB)\n",
      "Requirement already satisfied: setuptools in c:\\programdata\\anaconda3\\lib\\site-packages (from numba!=0.49.0->pymatting->rembg) (63.4.1)\n",
      "Requirement already satisfied: pyparsing!=3.0.5,>=2.0.2 in c:\\programdata\\anaconda3\\lib\\site-packages (from packaging->onnxruntime->rembg) (3.0.9)\n",
      "Requirement already satisfied: charset-normalizer<4,>=2 in c:\\programdata\\anaconda3\\lib\\site-packages (from requests>=2.19.0->pooch->rembg) (2.0.4)\n",
      "Requirement already satisfied: idna<4,>=2.5 in c:\\users\\my pc\\appdata\\roaming\\python\\python39\\site-packages (from requests>=2.19.0->pooch->rembg) (2.10)\n",
      "Requirement already satisfied: urllib3<3,>=1.21.1 in c:\\programdata\\anaconda3\\lib\\site-packages (from requests>=2.19.0->pooch->rembg) (1.26.11)\n",
      "Requirement already satisfied: certifi>=2017.4.17 in c:\\programdata\\anaconda3\\lib\\site-packages (from requests>=2.19.0->pooch->rembg) (2022.9.14)\n",
      "Requirement already satisfied: humanfriendly>=9.1 in c:\\users\\my pc\\appdata\\roaming\\python\\python39\\site-packages (from coloredlogs->onnxruntime->rembg) (10.0)\n",
      "Requirement already satisfied: mpmath>=0.19 in c:\\programdata\\anaconda3\\lib\\site-packages (from sympy->onnxruntime->rembg) (1.2.1)\n",
      "Requirement already satisfied: pyreadline3 in c:\\users\\my pc\\appdata\\roaming\\python\\python39\\site-packages (from humanfriendly>=9.1->coloredlogs->onnxruntime->rembg) (3.4.1)\n",
      "Installing collected packages: numpy\n",
      "  Attempting uninstall: numpy\n",
      "    Found existing installation: numpy 1.24.3\n",
      "    Uninstalling numpy-1.24.3:\n",
      "      Successfully uninstalled numpy-1.24.3\n"
     ]
    },
    {
     "name": "stderr",
     "output_type": "stream",
     "text": [
      "  WARNING: The script f2py.exe is installed in 'C:\\Users\\My PC\\AppData\\Roaming\\Python\\Python39\\Scripts' which is not on PATH.\n",
      "  Consider adding this directory to PATH or, if you prefer to suppress this warning, use --no-warn-script-location.\n",
      "ERROR: Could not install packages due to an OSError: [WinError 5] Accès refusé: 'C:\\\\Users\\\\My PC\\\\AppData\\\\Roaming\\\\Python\\\\Python39\\\\site-packages\\\\~~mpy\\\\.libs\\\\libopenblas64__v0.3.21-gcc_10_3_0.dll'\n",
      "Check the permissions.\n",
      "\n"
     ]
    }
   ],
   "source": [
    "!pip install rembg pillow"
   ]
  },
  {
   "cell_type": "code",
   "execution_count": 2,
   "id": "ff1aeb49",
   "metadata": {},
   "outputs": [
    {
     "name": "stderr",
     "output_type": "stream",
     "text": [
      "C:\\ProgramData\\Anaconda3\\lib\\site-packages\\paramiko\\transport.py:219: CryptographyDeprecationWarning: Blowfish has been deprecated\n",
      "  \"class\": algorithms.Blowfish,\n"
     ]
    }
   ],
   "source": [
    "from rembg import remove\n",
    "from PIL import Image\n",
    "import numpy as np\n",
    "import io\n",
    "\n",
    "def remove_background(input_path, output_path):\n",
    "    with open(input_path, 'rb') as img_file:\n",
    "        img = img_file.read()\n",
    "\n",
    "#Remove the background from the image\n",
    "    output = remove(img)\n",
    "    img = Image.open(io.BytesIO(output))\n",
    "    img.save(output_path)\n",
    "\n",
    "#Example:\n",
    "input_path = 'Files\\sabri.jpg'\n",
    "output_path = 'Files\\sabri without bg.png'\n",
    "remove_background(input_path, output_path)"
   ]
  }
 ],
 "metadata": {
  "kernelspec": {
   "display_name": "Python 3 (ipykernel)",
   "language": "python",
   "name": "python3"
  },
  "language_info": {
   "codemirror_mode": {
    "name": "ipython",
    "version": 3
   },
   "file_extension": ".py",
   "mimetype": "text/x-python",
   "name": "python",
   "nbconvert_exporter": "python",
   "pygments_lexer": "ipython3",
   "version": "3.9.13"
  }
 },
 "nbformat": 4,
 "nbformat_minor": 5
}
