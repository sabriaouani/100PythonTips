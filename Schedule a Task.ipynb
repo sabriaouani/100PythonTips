{
 "cells": [
  {
   "cell_type": "markdown",
   "id": "3c9a441b",
   "metadata": {},
   "source": [
    "# Schedule a Task at a certain time"
   ]
  },
  {
   "cell_type": "code",
   "execution_count": null,
   "id": "1a15009c",
   "metadata": {},
   "outputs": [],
   "source": [
    "!pip install schedule"
   ]
  },
  {
   "cell_type": "code",
   "execution_count": null,
   "id": "9b6b8f2c",
   "metadata": {},
   "outputs": [],
   "source": [
    "import schedule\n",
    "import time\n",
    "\n",
    "def daily_task():\n",
    "    print(\"Running daily task...\")\n",
    "\n",
    "#run every day at 10:00 am\n",
    "schedule.every().day.at(\"18:25\").do(daily_task)\n",
    "#keeping the script running\n",
    "while True:\n",
    "    schedule.run_pending()\n",
    "    time.sleep(1)"
   ]
  },
  {
   "cell_type": "code",
   "execution_count": null,
   "id": "1f916f8a",
   "metadata": {},
   "outputs": [
    {
     "name": "stdout",
     "output_type": "stream",
     "text": [
      "Running task every 2 seconds...\n",
      "Running task every 2 seconds...\n",
      "Running task every 2 seconds...\n",
      "Running task every 2 seconds...\n",
      "Running task every 2 seconds...\n",
      "Running task every 2 seconds...\n",
      "Running task every 2 seconds...\n",
      "Running task every 2 seconds...\n",
      "Running task every 2 seconds...\n",
      "Running task every 2 seconds...\n",
      "Running task every 2 seconds...\n",
      "Running task every 2 seconds...\n",
      "Running task every 2 seconds...\n",
      "Running task every 2 seconds...\n",
      "Running task every 2 seconds...\n",
      "Running task every 2 seconds...\n",
      "Running task every 2 seconds...\n",
      "Running task every 2 seconds...\n",
      "Running task every 2 seconds...\n",
      "Running task every 2 seconds...\n",
      "Running task every 2 seconds...\n",
      "Running task every 2 seconds...\n",
      "Running task every 2 seconds...\n",
      "Running task every 2 seconds...\n",
      "Running task every 2 seconds...\n",
      "Running task every 2 seconds...\n",
      "Running task every 2 seconds...\n",
      "Running task every 2 seconds...\n",
      "Running task every 2 seconds...\n",
      "Running task every 2 seconds...\n",
      "Running task every 2 seconds...\n",
      "Running task every 2 seconds...\n",
      "Running task every 2 seconds...\n",
      "Running task every 2 seconds...\n",
      "Running task every 2 seconds...\n",
      "Running task every 2 seconds...\n",
      "Running task every 2 seconds...\n",
      "Running task every 2 seconds...\n",
      "Running task every 2 seconds...\n",
      "Running task every 2 seconds...\n",
      "Running task every 2 seconds...\n",
      "Running task every 2 seconds...\n",
      "Running task every 2 seconds...\n",
      "Running task every 2 seconds...\n",
      "Running task every 2 seconds...\n",
      "Running task every 2 seconds...\n",
      "Running task every 2 seconds...\n",
      "Running task every 2 seconds...\n",
      "Running task every 2 seconds...\n",
      "Running task every 2 seconds...\n",
      "Running task every 2 seconds...\n",
      "Running task every 2 seconds...\n",
      "Running task every 2 seconds...\n",
      "Running task every 2 seconds...\n",
      "Running task every 2 seconds...\n",
      "Running task every 2 seconds...\n",
      "Running task every 2 seconds...\n",
      "Running task every 2 seconds...\n",
      "Running task every 2 seconds...\n",
      "Running task every 2 seconds...\n",
      "Running task every 2 seconds...\n",
      "Running task every 2 seconds...\n",
      "Running task every 2 seconds...\n",
      "Running task every 2 seconds...\n",
      "Running task every 2 seconds...\n",
      "Running task every 2 seconds...\n",
      "Running task every 2 seconds...\n"
     ]
    }
   ],
   "source": [
    "import schedule\n",
    "import time\n",
    "\n",
    "def frequent_task():\n",
    "    print(\"Running task every 2 seconds...\")\n",
    "\n",
    "#run every 5 seconds\n",
    "schedule.every(2).seconds.do(frequent_task)\n",
    "\n",
    "\n",
    "while True:\n",
    "    schedule.run_pending()\n",
    "    time.sleep(1)"
   ]
  }
 ],
 "metadata": {
  "kernelspec": {
   "display_name": "Python 3 (ipykernel)",
   "language": "python",
   "name": "python3"
  },
  "language_info": {
   "codemirror_mode": {
    "name": "ipython",
    "version": 3
   },
   "file_extension": ".py",
   "mimetype": "text/x-python",
   "name": "python",
   "nbconvert_exporter": "python",
   "pygments_lexer": "ipython3",
   "version": "3.9.13"
  }
 },
 "nbformat": 4,
 "nbformat_minor": 5
}
