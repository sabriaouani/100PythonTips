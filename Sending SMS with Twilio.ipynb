{
 "cells": [
  {
   "cell_type": "markdown",
   "id": "b88404ae",
   "metadata": {},
   "source": [
    "# Sending SMS with Twilio"
   ]
  },
  {
   "cell_type": "code",
   "execution_count": null,
   "id": "6f8c1fdb",
   "metadata": {},
   "outputs": [],
   "source": [
    "pip install twilio"
   ]
  },
  {
   "cell_type": "code",
   "execution_count": null,
   "id": "b0e01df4",
   "metadata": {},
   "outputs": [],
   "source": [
    "from twilio.rest import Client\n",
    "\n",
    "def send_sms(body, to):\n",
    "    account_sid = \"your_account_sid_here\"\n",
    "    auth_token  = \"your_auth_token_here\"\n",
    "\n",
    "    client = Client(account_sid, auth_token)\n",
    "\n",
    "    message = client.messages.create(\n",
    "        body = body,\n",
    "        from_ = \"+21654181451\", \n",
    "        to = to\n",
    "    )\n",
    "\n",
    "    print(\"Message sent!\")\n",
    "\n",
    "\n",
    "send_sms(\"wake up Neo!\", \"+1234567890\") \n"
   ]
  }
 ],
 "metadata": {
  "kernelspec": {
   "display_name": "Python 3 (ipykernel)",
   "language": "python",
   "name": "python3"
  },
  "language_info": {
   "codemirror_mode": {
    "name": "ipython",
    "version": 3
   },
   "file_extension": ".py",
   "mimetype": "text/x-python",
   "name": "python",
   "nbconvert_exporter": "python",
   "pygments_lexer": "ipython3",
   "version": "3.9.13"
  }
 },
 "nbformat": 4,
 "nbformat_minor": 5
}
