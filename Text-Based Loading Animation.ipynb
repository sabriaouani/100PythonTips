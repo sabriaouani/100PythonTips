{
 "cells": [
  {
   "cell_type": "markdown",
   "id": "7ab2da27",
   "metadata": {},
   "source": [
    "# Text-Based Loading Animation"
   ]
  },
  {
   "cell_type": "code",
   "execution_count": 1,
   "id": "9c88e5f6",
   "metadata": {},
   "outputs": [
    {
     "name": "stdout",
     "output_type": "stream",
     "text": [
      "Done!\n"
     ]
    }
   ],
   "source": [
    "import sys\n",
    "import time\n",
    "\n",
    "animation = \"|/-\\\\\"\n",
    "\n",
    "for i in range(20):  # Number of iterations\n",
    "    sys.stdout.write(\"\\r\" + animation[i % len(animation)])\n",
    "    sys.stdout.flush()\n",
    "    time.sleep(0.1)\n",
    "\n",
    "print(\"\\rDone!\")"
   ]
  }
 ],
 "metadata": {
  "kernelspec": {
   "display_name": "Python 3 (ipykernel)",
   "language": "python",
   "name": "python3"
  },
  "language_info": {
   "codemirror_mode": {
    "name": "ipython",
    "version": 3
   },
   "file_extension": ".py",
   "mimetype": "text/x-python",
   "name": "python",
   "nbconvert_exporter": "python",
   "pygments_lexer": "ipython3",
   "version": "3.9.13"
  }
 },
 "nbformat": 4,
 "nbformat_minor": 5
}
