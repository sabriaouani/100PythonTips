{
 "cells": [
  {
   "cell_type": "markdown",
   "id": "cfc4bc45",
   "metadata": {},
   "source": [
    "# Unzip File"
   ]
  },
  {
   "cell_type": "code",
   "execution_count": 4,
   "id": "dda031ad",
   "metadata": {},
   "outputs": [
    {
     "name": "stdout",
     "output_type": "stream",
     "text": [
      "File unzipped to Files\n"
     ]
    }
   ],
   "source": [
    "import zipfile\n",
    "\n",
    "def unzip_file(zip_filepath, dest_dir):\n",
    "    with zipfile.ZipFile(zip_filepath) as zip_file:\n",
    "        zip_file.extractall(dest_dir)\n",
    "        print(f'File unzipped to {dest_dir}')\n",
    "\n",
    "#example:\n",
    "zip_filepath = r'Files\\Untitled.zip'\n",
    "dest_dir = r'Files'\n",
    "unzip_file(zip_filepath, dest_dir)"
   ]
  }
 ],
 "metadata": {
  "kernelspec": {
   "display_name": "Python 3 (ipykernel)",
   "language": "python",
   "name": "python3"
  },
  "language_info": {
   "codemirror_mode": {
    "name": "ipython",
    "version": 3
   },
   "file_extension": ".py",
   "mimetype": "text/x-python",
   "name": "python",
   "nbconvert_exporter": "python",
   "pygments_lexer": "ipython3",
   "version": "3.9.13"
  }
 },
 "nbformat": 4,
 "nbformat_minor": 5
}
