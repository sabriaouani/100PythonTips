{
 "cells": [
  {
   "cell_type": "markdown",
   "id": "5619cff5",
   "metadata": {},
   "source": [
    "# Validating email addresses"
   ]
  },
  {
   "cell_type": "code",
   "execution_count": null,
   "id": "0f4d62c9",
   "metadata": {},
   "outputs": [],
   "source": [
    "!pip install pandas validate-email-address"
   ]
  },
  {
   "cell_type": "code",
   "execution_count": 1,
   "id": "a1b16162",
   "metadata": {},
   "outputs": [
    {
     "data": {
      "text/html": [
       "<div>\n",
       "<style scoped>\n",
       "    .dataframe tbody tr th:only-of-type {\n",
       "        vertical-align: middle;\n",
       "    }\n",
       "\n",
       "    .dataframe tbody tr th {\n",
       "        vertical-align: top;\n",
       "    }\n",
       "\n",
       "    .dataframe thead th {\n",
       "        text-align: right;\n",
       "    }\n",
       "</style>\n",
       "<table border=\"1\" class=\"dataframe\">\n",
       "  <thead>\n",
       "    <tr style=\"text-align: right;\">\n",
       "      <th></th>\n",
       "      <th>Email</th>\n",
       "      <th>Valid</th>\n",
       "    </tr>\n",
       "  </thead>\n",
       "  <tbody>\n",
       "    <tr>\n",
       "      <th>0</th>\n",
       "      <td>Universal@easy2getfurniture.com</td>\n",
       "      <td>None</td>\n",
       "    </tr>\n",
       "    <tr>\n",
       "      <th>1</th>\n",
       "      <td>sales@etodoors.com</td>\n",
       "      <td>True</td>\n",
       "    </tr>\n",
       "    <tr>\n",
       "      <th>2</th>\n",
       "      <td>baf30a2b91654c5a840931f0137bed30@sentry.wixpre...</td>\n",
       "      <td>None</td>\n",
       "    </tr>\n",
       "    <tr>\n",
       "      <th>3</th>\n",
       "      <td>customer.service@westsidedoor.com</td>\n",
       "      <td>None</td>\n",
       "    </tr>\n",
       "    <tr>\n",
       "      <th>4</th>\n",
       "      <td>Info@mydreamirondoors.com</td>\n",
       "      <td>None</td>\n",
       "    </tr>\n",
       "    <tr>\n",
       "      <th>5</th>\n",
       "      <td>info@panoramicdoors.com</td>\n",
       "      <td>True</td>\n",
       "    </tr>\n",
       "    <tr>\n",
       "      <th>6</th>\n",
       "      <td>eran@growth-engines.com</td>\n",
       "      <td>None</td>\n",
       "    </tr>\n",
       "    <tr>\n",
       "      <th>7</th>\n",
       "      <td>Floydflreplace@sbcglobal.net</td>\n",
       "      <td>None</td>\n",
       "    </tr>\n",
       "  </tbody>\n",
       "</table>\n",
       "</div>"
      ],
      "text/plain": [
       "                                               Email Valid\n",
       "0                    Universal@easy2getfurniture.com  None\n",
       "1                                 sales@etodoors.com  True\n",
       "2  baf30a2b91654c5a840931f0137bed30@sentry.wixpre...  None\n",
       "3                  customer.service@westsidedoor.com  None\n",
       "4                          Info@mydreamirondoors.com  None\n",
       "5                            info@panoramicdoors.com  True\n",
       "6                            eran@growth-engines.com  None\n",
       "7                       Floydflreplace@sbcglobal.net  None"
      ]
     },
     "execution_count": 1,
     "metadata": {},
     "output_type": "execute_result"
    }
   ],
   "source": [
    "import pandas as pd\n",
    "import time\n",
    "from validate_email_address import validate_email\n",
    "import concurrent.futures\n",
    "\n",
    "def validate_email_address(email):\n",
    "    try:\n",
    "        valid = validate_email(email, verify=True)\n",
    "        time.sleep(0.5)  \n",
    "        return valid\n",
    "    except Exception as e:\n",
    "        time.sleep(0.5) \n",
    "        return False\n",
    "\n",
    "emails = [\n",
    "    \"Universal@easy2getfurniture.com\",\n",
    "    \"sales@etodoors.com\",\n",
    "    \"baf30a2b91654c5a840931f0137bed30@sentry.wixpress.com\",\n",
    "    \"customer.service@westsidedoor.com\",\n",
    "    \"Info@mydreamirondoors.com\",\n",
    "    \"info@panoramicdoors.com\",\n",
    "    \"eran@growth-engines.com\",\n",
    "    \"Floydflreplace@sbcglobal.net\",\n",
    "]\n",
    "\n",
    "df = pd.DataFrame(emails, columns=['Email'])\n",
    "\n",
    "with concurrent.futures.ThreadPoolExecutor(max_workers=5) as executor:\n",
    "    futures = [executor.submit(validate_email_address, email) for email in df['Email']]\n",
    "    df['Valid'] = [f.result() for f in concurrent.futures.as_completed(futures)]\n",
    "\n",
    "df"
   ]
  }
 ],
 "metadata": {
  "kernelspec": {
   "display_name": "Python 3 (ipykernel)",
   "language": "python",
   "name": "python3"
  },
  "language_info": {
   "codemirror_mode": {
    "name": "ipython",
    "version": 3
   },
   "file_extension": ".py",
   "mimetype": "text/x-python",
   "name": "python",
   "nbconvert_exporter": "python",
   "pygments_lexer": "ipython3",
   "version": "3.9.13"
  }
 },
 "nbformat": 4,
 "nbformat_minor": 5
}
