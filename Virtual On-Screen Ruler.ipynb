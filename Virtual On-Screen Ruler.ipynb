{
 "cells": [
  {
   "cell_type": "markdown",
   "id": "efa28c5d",
   "metadata": {},
   "source": [
    "# Virtual On-Screen Ruler"
   ]
  },
  {
   "cell_type": "code",
   "execution_count": 5,
   "id": "a9c3a471",
   "metadata": {},
   "outputs": [],
   "source": [
    "import tkinter as tk\n",
    "\n",
    "def on_move(event):\n",
    "    x, y = event.x, event.y\n",
    "    canvas.coords(x_line, x, 0, x, canvas.winfo_height())\n",
    "    canvas.coords(y_line, 0, y, canvas.winfo_width(), y)\n",
    "    canvas.coords(text, 10, 10)\n",
    "    canvas.itemconfigure(text, text=f\"X: {x}, Y: {y}\")\n",
    "\n",
    "root = tk.Tk()\n",
    "root.title(\"Virtual Ruler\")\n",
    "\n",
    "canvas = tk.Canvas(root, width=800, height=200, bg=\"white\")\n",
    "canvas.pack(expand=tk.YES, fill=tk.BOTH)\n",
    "\n",
    "x_line = canvas.create_line(0, 0, 0, canvas.winfo_height(), fill=\"black\")\n",
    "y_line = canvas.create_line(0, 0, canvas.winfo_width(), 0, fill=\"black\")\n",
    "text = canvas.create_text(10, 10, text=\"\", anchor=\"nw\", fill=\"black\")\n",
    "\n",
    "canvas.bind(\"<Motion>\", on_move)\n",
    "\n",
    "root.mainloop()"
   ]
  }
 ],
 "metadata": {
  "kernelspec": {
   "display_name": "Python 3 (ipykernel)",
   "language": "python",
   "name": "python3"
  },
  "language_info": {
   "codemirror_mode": {
    "name": "ipython",
    "version": 3
   },
   "file_extension": ".py",
   "mimetype": "text/x-python",
   "name": "python",
   "nbconvert_exporter": "python",
   "pygments_lexer": "ipython3",
   "version": "3.9.13"
  }
 },
 "nbformat": 4,
 "nbformat_minor": 5
}
