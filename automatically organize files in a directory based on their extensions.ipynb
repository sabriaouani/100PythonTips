{
 "cells": [
  {
   "cell_type": "markdown",
   "id": "0ec3567c",
   "metadata": {},
   "source": [
    "# automatically organize files in a directory based on their extensions"
   ]
  },
  {
   "cell_type": "code",
   "execution_count": 3,
   "id": "279a6256",
   "metadata": {},
   "outputs": [
    {
     "name": "stdout",
     "output_type": "stream",
     "text": [
      "Organized 19 files in Files/\n"
     ]
    }
   ],
   "source": [
    "import os\n",
    "import shutil\n",
    "\n",
    "def organize_files(directory):\n",
    "    \n",
    "    files = [f for f in os.listdir(directory) if os.path.isfile(os.path.join(directory, f))]\n",
    "\n",
    "\n",
    "    for file in files:\n",
    "    \n",
    "        extension = os.path.splitext(file)[1][1:]\n",
    "\n",
    "        if extension:\n",
    "          \n",
    "            extension_dir = os.path.join(directory, extension)\n",
    "            if not os.path.exists(extension_dir):\n",
    "                os.makedirs(extension_dir)\n",
    "\n",
    "\n",
    "            shutil.move(os.path.join(directory, file), os.path.join(extension_dir, file))\n",
    "\n",
    "    print(f\"Organized {len(files)} files in {directory}\")\n",
    "\n",
    "directory_to_organize = \"Files/\"\n",
    "organize_files(directory_to_organize)\n"
   ]
  }
 ],
 "metadata": {
  "kernelspec": {
   "display_name": "Python 3 (ipykernel)",
   "language": "python",
   "name": "python3"
  },
  "language_info": {
   "codemirror_mode": {
    "name": "ipython",
    "version": 3
   },
   "file_extension": ".py",
   "mimetype": "text/x-python",
   "name": "python",
   "nbconvert_exporter": "python",
   "pygments_lexer": "ipython3",
   "version": "3.9.13"
  }
 },
 "nbformat": 4,
 "nbformat_minor": 5
}
