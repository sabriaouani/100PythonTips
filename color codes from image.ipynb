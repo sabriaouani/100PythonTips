{
 "cells": [
  {
   "cell_type": "markdown",
   "id": "c2333ad8",
   "metadata": {},
   "source": [
    "# Color codes from image"
   ]
  },
  {
   "cell_type": "code",
   "execution_count": null,
   "id": "4dcc0c6a",
   "metadata": {},
   "outputs": [],
   "source": [
    "!pip install opencv-python-headless scikit-learn numpy"
   ]
  },
  {
   "cell_type": "code",
   "execution_count": 1,
   "id": "ef174555",
   "metadata": {},
   "outputs": [
    {
     "data": {
      "image/png": "[encoded data removed]",
      "text/plain": [
       "<Figure size 500x200 with 5 Axes>"
      ]
     },
     "metadata": {},
     "output_type": "display_data"
    }
   ],
   "source": [
    "from PIL import Image\n",
    "import matplotlib.pyplot as plt\n",
    "import numpy as np\n",
    "from sklearn.cluster import KMeans\n",
    "\n",
    "def get_dominant_colors(image_path, n_colors):\n",
    "  \n",
    "    with Image.open(image_path) as img:\n",
    "       \n",
    "        img = img.convert(\"RGBA\")\n",
    "\n",
    "        img = img.resize((25, 25))\n",
    "\n",
    "        data = np.array(img.getdata())\n",
    "        data = data[:, :3]  \n",
    "        data = data.reshape(-1, 3)\n",
    "\n",
    "    \n",
    "        kmeans = KMeans(n_clusters=n_colors)\n",
    "        kmeans.fit(data)\n",
    "\n",
    "        colors = kmeans.cluster_centers_\n",
    "        colors = colors.round(0).astype(int)\n",
    "\n",
    "        fig, axs = plt.subplots(1, n_colors, figsize=(5, 2),\n",
    "                                constrained_layout=True,\n",
    "                                squeeze=False)\n",
    "\n",
    "        for ax, color in zip(axs[0], colors):\n",
    "            ax.imshow([[color]])\n",
    "            ax.axis('off')\n",
    "\n",
    "        plt.show()\n",
    "\n",
    "image_path = r'Files\\sabri.jpg'  \n",
    "\n",
    "get_dominant_colors(image_path, 5)"
   ]
  }
 ],
 "metadata": {
  "kernelspec": {
   "display_name": "Python 3 (ipykernel)",
   "language": "python",
   "name": "python3"
  },
  "language_info": {
   "codemirror_mode": {
    "name": "ipython",
    "version": 3
   },
   "file_extension": ".py",
   "mimetype": "text/x-python",
   "name": "python",
   "nbconvert_exporter": "python",
   "pygments_lexer": "ipython3",
   "version": "3.9.13"
  }
 },
 "nbformat": 4,
 "nbformat_minor": 5
}
