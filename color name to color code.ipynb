{
 "cells": [
  {
   "cell_type": "markdown",
   "id": "6cc8e2be",
   "metadata": {},
   "source": [
    "# Color name to color code"
   ]
  },
  {
   "cell_type": "code",
   "execution_count": null,
   "id": "205bd5ca",
   "metadata": {},
   "outputs": [],
   "source": [
    "!pip install webcolors"
   ]
  },
  {
   "cell_type": "code",
   "execution_count": 2,
   "id": "851963e8",
   "metadata": {},
   "outputs": [
    {
     "name": "stdout",
     "output_type": "stream",
     "text": [
      "Enter the color name: grey\n",
      "The color code for grey is #808080\n"
     ]
    }
   ],
   "source": [
    "import webcolors\n",
    "\n",
    "def get_color_code():\n",
    "    color_name = input(\"Enter the color name: \")\n",
    "    try:\n",
    "        color_code = webcolors.name_to_hex(color_name)\n",
    "        print(f\"The color code for {color_name} is {color_code}\")\n",
    "    except ValueError:\n",
    "        print(\"The color name is not recognized.\")\n",
    "\n",
    "get_color_code()\n"
   ]
  }
 ],
 "metadata": {
  "kernelspec": {
   "display_name": "Python 3 (ipykernel)",
   "language": "python",
   "name": "python3"
  },
  "language_info": {
   "codemirror_mode": {
    "name": "ipython",
    "version": 3
   },
   "file_extension": ".py",
   "mimetype": "text/x-python",
   "name": "python",
   "nbconvert_exporter": "python",
   "pygments_lexer": "ipython3",
   "version": "3.9.13"
  }
 },
 "nbformat": 4,
 "nbformat_minor": 5
}
