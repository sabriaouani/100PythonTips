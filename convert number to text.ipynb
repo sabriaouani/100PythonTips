{
 "cells": [
  {
   "cell_type": "markdown",
   "id": "e399f9aa",
   "metadata": {},
   "source": [
    "# convert number to text"
   ]
  },
  {
   "cell_type": "code",
   "execution_count": null,
   "id": "ec31f553",
   "metadata": {},
   "outputs": [],
   "source": [
    "!pip install num2words"
   ]
  },
  {
   "cell_type": "code",
   "execution_count": 3,
   "id": "8f46499a",
   "metadata": {},
   "outputs": [
    {
     "name": "stdout",
     "output_type": "stream",
     "text": [
      "seven hundred and fifty-four million, three hundred and twenty-two thousand, four hundred and seventy-seven\n",
      "seven hundred and fifty-four million, three hundred and twenty-two thousand, four hundred and seventy-seven\n"
     ]
    }
   ],
   "source": [
    "from num2words import num2words\n",
    "\n",
    "def number_to_words(number):\n",
    "    return num2words(number)\n",
    "\n",
    "print(number_to_words(754322477))"
   ]
  }
 ],
 "metadata": {
  "kernelspec": {
   "display_name": "Python 3 (ipykernel)",
   "language": "python",
   "name": "python3"
  },
  "language_info": {
   "codemirror_mode": {
    "name": "ipython",
    "version": 3
   },
   "file_extension": ".py",
   "mimetype": "text/x-python",
   "name": "python",
   "nbconvert_exporter": "python",
   "pygments_lexer": "ipython3",
   "version": "3.9.13"
  }
 },
 "nbformat": 4,
 "nbformat_minor": 5
}
