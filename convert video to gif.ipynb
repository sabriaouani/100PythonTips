{
 "cells": [
  {
   "cell_type": "markdown",
   "id": "241702fb",
   "metadata": {},
   "source": [
    "# Convert video to gif"
   ]
  },
  {
   "cell_type": "code",
   "execution_count": null,
   "id": "8733765f",
   "metadata": {},
   "outputs": [],
   "source": [
    "!pip install moviepy"
   ]
  },
  {
   "cell_type": "code",
   "execution_count": 1,
   "id": "9e27eef3",
   "metadata": {},
   "outputs": [
    {
     "name": "stdout",
     "output_type": "stream",
     "text": [
      "MoviePy - Building file Files\\Big-Enter Key.gif with imageio.\n",
      "MoviePy - Building file Files\\Big-Enter Key.gif with imageio.\n"
     ]
    },
    {
     "name": "stderr",
     "output_type": "stream",
     "text": [
      "                                                                                                                       "
     ]
    }
   ],
   "source": [
    "from moviepy.editor import VideoFileClip\n",
    "\n",
    "def convert_video_to_gif(video_path, gif_path):\n",
    "    clip = VideoFileClip(video_path)\n",
    "\n",
    "\n",
    "    clip.write_gif(gif_path)\n",
    "\n",
    "\n",
    "convert_video_to_gif(\"Files\\Big-Enter Key.mp4\", \"Files\\Big-Enter Key.gif\")"
   ]
  },
  {
   "cell_type": "code",
   "execution_count": 2,
   "id": "ab4dcd91",
   "metadata": {},
   "outputs": [
    {
     "name": "stdout",
     "output_type": "stream",
     "text": [
      "MoviePy - Building file Files\\Keyboard Smash.gif with imageio.\n",
      "MoviePy - Building file Files\\Keyboard Smash.gif with imageio.\n"
     ]
    },
    {
     "name": "stderr",
     "output_type": "stream",
     "text": [
      "                                                                                                                       \r"
     ]
    }
   ],
   "source": [
    "from moviepy.editor import VideoFileClip\n",
    "\n",
    "def convert_video_to_gif(video_path, gif_path, start_time=3, end_time=5):\n",
    "\n",
    "    clip = VideoFileClip(video_path)\n",
    "\n",
    "    subclip = clip.subclip(start_time, end_time)\n",
    "\n",
    "    subclip.write_gif(gif_path)\n",
    "\n",
    "\n",
    "convert_video_to_gif(\"Files\\Tense1983 Keyboard Smash meme.mp4\", \"Files\\Keyboard Smash.gif\")"
   ]
  }
 ],
 "metadata": {
  "kernelspec": {
   "display_name": "Python 3 (ipykernel)",
   "language": "python",
   "name": "python3"
  },
  "language_info": {
   "codemirror_mode": {
    "name": "ipython",
    "version": 3
   },
   "file_extension": ".py",
   "mimetype": "text/x-python",
   "name": "python",
   "nbconvert_exporter": "python",
   "pygments_lexer": "ipython3",
   "version": "3.9.13"
  }
 },
 "nbformat": 4,
 "nbformat_minor": 5
}
