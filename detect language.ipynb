{
 "cells": [
  {
   "cell_type": "markdown",
   "id": "c6080563",
   "metadata": {},
   "source": [
    "# Detect language"
   ]
  },
  {
   "cell_type": "code",
   "execution_count": null,
   "id": "6284ae96",
   "metadata": {},
   "outputs": [],
   "source": [
    "!pip install langdetect"
   ]
  },
  {
   "cell_type": "code",
   "execution_count": 2,
   "id": "8676fb48",
   "metadata": {},
   "outputs": [
    {
     "name": "stdout",
     "output_type": "stream",
     "text": [
      "Please enter the text: I'm the best data analyst\n",
      "The detected language is: en\n"
     ]
    }
   ],
   "source": [
    "from langdetect import detect\n",
    "\n",
    "def detect_language():\n",
    "    text = input(\"Please enter the text: \")\n",
    "    try:\n",
    "        language = detect(text)\n",
    "        print(f\"The detected language is: {language}\")\n",
    "    except:\n",
    "        print(\"Language detection failed. Please try again with a different text.\")\n",
    "\n",
    "detect_language()"
   ]
  }
 ],
 "metadata": {
  "kernelspec": {
   "display_name": "Python 3 (ipykernel)",
   "language": "python",
   "name": "python3"
  },
  "language_info": {
   "codemirror_mode": {
    "name": "ipython",
    "version": 3
   },
   "file_extension": ".py",
   "mimetype": "text/x-python",
   "name": "python",
   "nbconvert_exporter": "python",
   "pygments_lexer": "ipython3",
   "version": "3.9.13"
  }
 },
 "nbformat": 4,
 "nbformat_minor": 5
}
