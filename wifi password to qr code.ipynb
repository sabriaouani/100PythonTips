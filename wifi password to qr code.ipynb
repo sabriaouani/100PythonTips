{
 "cells": [
  {
   "cell_type": "code",
   "execution_count": 1,
   "id": "7c43b0eb",
   "metadata": {},
   "outputs": [
    {
     "name": "stdout",
     "output_type": "stream",
     "text": [
      "Defaulting to user installation because normal site-packages is not writeable\n",
      "Collecting wifi-qrcode-generator\n",
      "  Downloading wifi_qrcode_generator-1.0.1-py3-none-any.whl (7.5 kB)\n",
      "Requirement already satisfied: pillow in c:\\programdata\\anaconda3\\lib\\site-packages (9.2.0)\n",
      "Collecting qrcode[pil]\n",
      "  Downloading qrcode-7.4.2-py3-none-any.whl (46 kB)\n",
      "     -------------------------------------- 46.2/46.2 kB 765.0 kB/s eta 0:00:00\n",
      "Collecting pypng\n",
      "  Downloading pypng-0.20220715.0-py3-none-any.whl (58 kB)\n",
      "     -------------------------------------- 58.1/58.1 kB 771.2 kB/s eta 0:00:00\n",
      "Requirement already satisfied: typing-extensions in c:\\programdata\\anaconda3\\lib\\site-packages (from qrcode[pil]->wifi-qrcode-generator) (4.3.0)\n",
      "Requirement already satisfied: colorama in c:\\programdata\\anaconda3\\lib\\site-packages (from qrcode[pil]->wifi-qrcode-generator) (0.4.5)\n",
      "Installing collected packages: pypng, qrcode, wifi-qrcode-generator\n",
      "Successfully installed pypng-0.20220715.0 qrcode-7.4.2 wifi-qrcode-generator-1.0.1\n"
     ]
    },
    {
     "name": "stderr",
     "output_type": "stream",
     "text": [
      "  WARNING: The script qr.exe is installed in 'C:\\Users\\My PC\\AppData\\Roaming\\Python\\Python39\\Scripts' which is not on PATH.\n",
      "  Consider adding this directory to PATH or, if you prefer to suppress this warning, use --no-warn-script-location.\n",
      "  WARNING: The script wifi-qrcode-generator.exe is installed in 'C:\\Users\\My PC\\AppData\\Roaming\\Python\\Python39\\Scripts' which is not on PATH.\n",
      "  Consider adding this directory to PATH or, if you prefer to suppress this warning, use --no-warn-script-location.\n"
     ]
    }
   ],
   "source": [
    "!pip install wifi-qrcode-generator pillow"
   ]
  },
  {
   "cell_type": "code",
   "execution_count": 8,
   "id": "41906e9b",
   "metadata": {},
   "outputs": [
    {
     "name": "stdout",
     "output_type": "stream",
     "text": [
      "                                         \n",
      "                                         \n",
      "    █▀▀▀▀▀█  █▄ ██▄█ ▀▄▀█ ██  █▀▀▀▀▀█    \n",
      "    █ ███ █  █▄▀▀█▄▀▄▄█▄█ ▄ █ █ ███ █    \n",
      "    █ ▀▀▀ █ ▄█ ▄▀█▀▄▄ ██▀ ▄▀  █ ▀▀▀ █    \n",
      "    ▀▀▀▀▀▀▀ ▀▄▀ █ █▄█▄▀ ▀▄▀▄█ ▀▀▀▀▀▀▀    \n",
      "    █▄ █▄█▀ █   ▀█▀ █▄█ ▀█   ▀ ▀ ▄▄ ▄    \n",
      "     ▀ █▀▄▀▄ ▄▀█▀█▀▄▀ █▀█▄█▄ ▀ ▄██▀▀█    \n",
      "        ▀▀▀▄█ ▀▀▄ █▄▀ █ █▀▀ █▀▀█▄▄▀      \n",
      "    ▄▄█ █▀▀██ ██▄▄█▀██▀▀▄█▄█ ▀▄▄▀█ ▀▄    \n",
      "    ▄▀█▄█▄▀ █ ▀█▀▄▀▀▄██ ▄▀▀ ▄ ██▀█ ▄▀    \n",
      "    █▀ ▄ ▄▀██▀█▀██  █▀  ██▀     █  ▀█    \n",
      "     ▀▄▄▀ ▀▀ █▀ █▄▄█ █ █▀▀█ █ ▄█ ▀▀▀▀    \n",
      "    ▀██▄  ▀▄▄█▄█▀▄▄▄▀ ▀█▄▄▀▄███▄▄▀▀▄█    \n",
      "    ▀ ▀ ▀▀▀▀▄█▄▄█▀▀ ▄██▄█▀▄ █▀▀▀██▄ █    \n",
      "    █▀▀▀▀▀█ ▄▄█▀ ▄▄▄▀██▄▀██▄█ ▀ █▄▀▀     \n",
      "    █ ███ █ ▄   ██▀▄▄▄██▀▄ ▄▀▀█▀▀█ ▀▀    \n",
      "    █ ▀▀▀ █  █▀▀▀ █▀▀██████▄█ ██▀▄▀ ▀    \n",
      "    ▀▀▀▀▀▀▀ ▀▀  ▀ ▀▀ ▀ ▀ ▀  ▀ ▀    ▀     \n",
      "                                         \n",
      "                                         \n"
     ]
    }
   ],
   "source": [
    "import wifi_qrcode_generator.generator\n",
    "\n",
    "# Set WiFi credentials\n",
    "ssid = 'golbal25480'  # replace with your SSID\n",
    "password = 'aouani25480'  # replace with your WiFi password\n",
    "encryption = 'WPA'  # WEP, WPA, or WPA2\n",
    "\n",
    "# Generate QR code\n",
    "qr_code = wifi_qrcode_generator.generator.wifi_qrcode(\n",
    "    ssid=ssid, hidden=False, authentication_type=encryption, password=password\n",
    ")\n",
    "\n",
    "# Print QR code in ASCII\n",
    "qr_code.print_ascii()\n",
    "\n",
    "# Save QR code to a file\n",
    "qr_code.make_image().save('qr.png')\n"
   ]
  },
  {
   "cell_type": "code",
   "execution_count": null,
   "id": "564c27a3",
   "metadata": {},
   "outputs": [],
   "source": []
  }
 ],
 "metadata": {
  "kernelspec": {
   "display_name": "Python 3 (ipykernel)",
   "language": "python",
   "name": "python3"
  },
  "language_info": {
   "codemirror_mode": {
    "name": "ipython",
    "version": 3
   },
   "file_extension": ".py",
   "mimetype": "text/x-python",
   "name": "python",
   "nbconvert_exporter": "python",
   "pygments_lexer": "ipython3",
   "version": "3.9.13"
  }
 },
 "nbformat": 4,
 "nbformat_minor": 5
}
