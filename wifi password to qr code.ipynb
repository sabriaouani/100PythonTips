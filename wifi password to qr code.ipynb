{
 "cells": [
  {
   "cell_type": "markdown",
   "id": "ad9715e7",
   "metadata": {},
   "source": [
    "# wifi password to qr code"
   ]
  },
  {
   "cell_type": "code",
   "execution_count": null,
   "id": "7c43b0eb",
   "metadata": {},
   "outputs": [],
   "source": [
    "!pip install wifi-qrcode-generator pillow"
   ]
  },
  {
   "cell_type": "code",
   "execution_count": 2,
   "id": "41906e9b",
   "metadata": {},
   "outputs": [
    {
     "name": "stdout",
     "output_type": "stream",
     "text": [
      "                                         \n",
      "                                         \n",
      "    █▀▀▀▀▀█  ▄▄ ███▄ ██▀█  ▀▄ █▀▀▀▀▀█    \n",
      "    █ ███ █ ██ ▄ ▀▄██▄▄▀████▀ █ ███ █    \n",
      "    █ ▀▀▀ █ █  ▀██ █▄▄ ▀▄▀▄▀▀ █ ▀▀▀ █    \n",
      "    ▀▀▀▀▀▀▀ █▄█ ▀ █▄▀ █ █▄█ █ ▀▀▀▀▀▀▀    \n",
      "    ▀▄████▀ ▄▀▀█▀ █▀▄█▄▄▄ ▀█▄▄▀▀▀▀▀ ▄    \n",
      "    ▀ ▄█ █▀██▀ ▄  ▄▀▄▀▀  █ ▄▄▄▀████▀     \n",
      "     ▀ ▄▀▀▀▀▀█▄ ▀▄▄█▄ ██▄ ▄▄ █▄▀▀▄█ ▀    \n",
      "      █   ▀█▀█ █▀ ▄ ▄ ▄▄▀█  ▄█▄▄██▄█▄    \n",
      "      ▀▀▄▀▀█▀█▄▄▀▀  ▄█▄▄▄ ▀▀ █ ▄▀▄▄▀▄    \n",
      "      ▀  ▄▀  ██▀ █ █▄█▄▄█▄ ▄▄█ ▀ ▄▄▀▄    \n",
      "    █▀ ▀▀▄▀▄▄▀▀▀█ ▄█▀ ▄▄█ ▀█ ▀▄▀▀ ▀▄▀    \n",
      "    █ █▀ ▀▀▀█▄▄▀▀▀ █▀▀▄ ▄▄ ▄▄  ▄▄▄█▀▄    \n",
      "    ▀  ▀▀▀▀▀▄▀█▀ █▄▀▄▀▄█▄▄▀██▀▀▀█  █▄    \n",
      "    █▀▀▀▀▀█ ▄  ▄██▄▀▄ ▀▄ ▄▀▀█ ▀ █▀█      \n",
      "    █ ███ █ █ ▄▄ ▀ █▄ ▀█▄ ▀▄██▀▀▀▀ ▄▄    \n",
      "    █ ▀▀▀ █ ▀▀▀▄█▄  ▄ ▄ ▀▄  ▀ ▄▄▄▄▄      \n",
      "    ▀▀▀▀▀▀▀ ▀▀▀      ▀    ▀▀▀▀ ▀▀▀ ▀     \n",
      "                                         \n",
      "                                         \n"
     ]
    }
   ],
   "source": [
    "import wifi_qrcode_generator.generator\n",
    "\n",
    "\n",
    "ssid = 'ghjjjghgfdfdfdfd' \n",
    "password = 'hghjykiuikyy'  \n",
    "encryption = 'WPA'  \n",
    "\n",
    "\n",
    "qr_code = wifi_qrcode_generator.generator.wifi_qrcode(\n",
    "    ssid=ssid, hidden=False, authentication_type=encryption, password=password\n",
    ")\n",
    "\n",
    "#QR code in ASCII\n",
    "qr_code.print_ascii()\n",
    "\n",
    "qr_code.make_image().save('qr.png')"
   ]
  }
 ],
 "metadata": {
  "kernelspec": {
   "display_name": "Python 3 (ipykernel)",
   "language": "python",
   "name": "python3"
  },
  "language_info": {
   "codemirror_mode": {
    "name": "ipython",
    "version": 3
   },
   "file_extension": ".py",
   "mimetype": "text/x-python",
   "name": "python",
   "nbconvert_exporter": "python",
   "pygments_lexer": "ipython3",
   "version": "3.9.13"
  }
 },
 "nbformat": 4,
 "nbformat_minor": 5
}
